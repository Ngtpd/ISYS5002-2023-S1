{
  "nbformat": 4,
  "nbformat_minor": 0,
  "metadata": {
    "colab": {
      "provenance": [],
      "include_colab_link": true
    },
    "kernelspec": {
      "name": "python3",
      "display_name": "Python 3"
    },
    "language_info": {
      "name": "python"
    }
  },
  "cells": [
    {
      "cell_type": "markdown",
      "metadata": {
        "id": "view-in-github",
        "colab_type": "text"
      },
      "source": [
        "<a href=\"https://colab.research.google.com/github/Ngtpd/ISYS5002-2023-S1/blob/main/02_4_Gross_Pay_Calculator.ipynb\" target=\"_parent\"><img src=\"https://colab.research.google.com/assets/colab-badge.svg\" alt=\"Open In Colab\"/></a>"
      ]
    },
    {
      "cell_type": "markdown",
      "source": [
        "# Problem Solving Methodology\n",
        "\n",
        "> “The biggest mistake I see new programmers make is focusing on learning syntax instead of learning how to solve problems.” \n",
        ">\n",
        "> — V. Anton Spraul, Think Like a Programmer: An Introduction to Creative Problem solving\n",
        "\n",
        "Problem solving is process the helps people identify and solve problem sin their lives.  It is important to have a consistent approach to solving problems, a aprroach that is general enough to work for any problem.  The problem solving technique that we present here can be tailored to solve problems in other areas. However is todes assume tht we are using a computer to help solve the problems.\n",
        "\n",
        "The process of problem solving we will use can be broken down into 6 key steps:\n",
        "1. State the problem clearly\n",
        "2. Describe the input and output information\n",
        "3. Work the problem by hand\n",
        "4. Develop an algorithm / pseudocode\n",
        "5. Convert pseudoce to Python program code\n",
        "6. Test solution with a variety of data"
      ],
      "metadata": {
        "id": "0hNqXt62Y2tk"
      }
    },
    {
      "cell_type": "markdown",
      "source": [
        "# *Assume you were asked to create a program to calculate and display the gross pay for an hourly paid employee.*"
      ],
      "metadata": {
        "id": "tmgdzH1cYcvd"
      }
    },
    {
      "cell_type": "markdown",
      "source": [
        "# 1. Problem Statement\n",
        "\n",
        "The first step is to state the problem clearly.  It is extremley important to give clear, concise problem statement to avoid any misunderstandings.  For this example, the problem statement is as follows:\n",
        "\n",
        "> Compute the gross pay of hourly paid employee. Then display the calculated gross pay\n",
        "\n",
        "\n",
        "# 2. Input/Output Description\n",
        "\n",
        "The second step is to describe carefully the information that is given to solve the problem and then identify the values to be computed.  These items represent the input and output for the problem and collectively can be called inputoutput or I/O.  At this point we have not defined any processing steps so we will represent the program as a box.  The **I/O diagram** for this example is as follows:\n",
        "\n",
        "```\n",
        "            +-----------+\n",
        "            |           |\n",
        " INPUT ---> | Algorithm | ---> OUTPUT\n",
        "            |           |\n",
        "            ------------+\n",
        "```\n",
        "\n",
        "\n",
        "Another way to look at this is the problem is divided into three speerate sections:\n",
        "* Input -  a list of source data to the problem\n",
        "* Output - a list of output required\n",
        "* Processing - a list of actions needed to produce the outputs\n",
        "\n",
        "At this step we only know the Input and Outputs, but the three parts can be represented as a table:\n",
        "\n",
        "| Input         | Processing | Output        |\n",
        "|---------------|------------|---------------|\n",
        "| hours worked  |            | gross pay    |\n",
        "|               |            |              |\n",
        "| hourly pay rate|           |      |\n",
        "\n",
        "\n",
        "Inputs --> hours worked & hourly pay rate\n",
        "\n",
        "Processing:\n",
        "\n",
        "Output --> gross pay\n",
        "\n"
      ],
      "metadata": {
        "id": "9IACZkC2aKxx"
      }
    },
    {
      "cell_type": "markdown",
      "source": [
        "# 3. Work the Problem By Hand\n",
        "The third step is to work the problem by hand with a claculator using a simple set of data. This is a very important step and should not be skipped. Even for simple problem. If you cannot take a simple set of numbers and comput the output then your not ready to move on to the next step.\n",
        "\n",
        "\n",
        "Let's assume \n",
        "> hourly pay rate = $25 <br>\n",
        "> hours worked = 20\n",
        "\n",
        "Manually, by hand we compute the gross pay \n",
        "\n",
        "> $25 x 20\n",
        "\n",
        "and the gross pay is $500\n",
        "\n",
        "\n",
        "\n"
      ],
      "metadata": {
        "id": "q03rnOmCcYSC"
      }
    },
    {
      "cell_type": "markdown",
      "source": [
        "# 4. Develop an Algorithm/Pseudocode\n",
        "\n",
        "Here is our pseudocode:\n",
        "\n",
        "\n",
        "\n",
        "1.   Get the hourly pay rate\n",
        "2.   Get the hours worked\n",
        "3. Let simple gross pay calculater = hourly pay rate *hours worked\n",
        "4. Print The gross pay is: gross pay calculater\n",
        "\n",
        "\n",
        "\n",
        "\n",
        "\n",
        "\n",
        "\n",
        "\n",
        "\n",
        "\n",
        "\n",
        "\n",
        "\n"
      ],
      "metadata": {
        "id": "M-WWVX-nfe1p"
      }
    },
    {
      "cell_type": "markdown",
      "source": [
        "# 5. Convert Pseudocode into Python code\n"
      ],
      "metadata": {
        "id": "hJGzmGfugZpH"
      }
    },
    {
      "cell_type": "code",
      "source": [
        "# Compute the gross pay of hourly paid employee. \n",
        "\n",
        "#Get the hourly pay rate\n",
        "hourly_pay_rate=25\n",
        "#Get the hours worked\n",
        "hours_worked=20\n",
        "#Let simple gross pay calculater = hourly pay rate *hours worked\n",
        "gross_pay=hourly_pay_rate*hours_worked\n",
        "#Print The gross pay is: gross pay calculater\n",
        "print(\"The gross pay is:$\",gross_pay)\n"
      ],
      "metadata": {
        "id": "KwZ7ye2WlRDX",
        "colab": {
          "base_uri": "https://localhost:8080/"
        },
        "outputId": "989b2423-6871-477b-c2c5-ce822d5defeb"
      },
      "execution_count": 2,
      "outputs": [
        {
          "output_type": "stream",
          "name": "stdout",
          "text": [
            "The gross pay is:$ 500\n"
          ]
        }
      ]
    },
    {
      "cell_type": "markdown",
      "source": [
        "# 6. Test solution with a variety of data"
      ],
      "metadata": {
        "id": "MIJrGYmXhY_a"
      }
    },
    {
      "cell_type": "code",
      "source": [
        "# Compute the gross pay of hourly paid employee with a variety of data\n",
        "#For whole number\n",
        "\n",
        "rate=int(input(\"Please enter hourly_pay_rate \"))\n",
        "hours=int(input(\"Please enter hours_worked \"))\n",
        "gross_pay=rate*hours\n",
        "print(\"The gross pay is:$\",gross_pay)\n"
      ],
      "metadata": {
        "id": "vSJl25I5UCkX",
        "colab": {
          "base_uri": "https://localhost:8080/"
        },
        "outputId": "884f2df2-bd50-4f25-9ed8-f96c131550ca"
      },
      "execution_count": 13,
      "outputs": [
        {
          "output_type": "stream",
          "name": "stdout",
          "text": [
            "Please enter hourly_pay_rate 20\n",
            "Please enter hours_worked 20\n",
            "The gross pay is:$ 400\n"
          ]
        }
      ]
    },
    {
      "cell_type": "code",
      "source": [
        "#for floating point number\n",
        "pay_rate=float(input(\"Please enter hourly_pay_rate \"))\n",
        "#Get the hours worked\n",
        "hours=float(input(\"Please enter hours_worked \"))\n",
        "#Let simple gross pay calculater = hourly pay rate *hours worked\n",
        "gross_pay=pay_rate*hours\n",
        "#Print The gross pay is: gross pay calculater\n",
        "print(\"The gross pay is:$\",gross_pay)"
      ],
      "metadata": {
        "colab": {
          "base_uri": "https://localhost:8080/"
        },
        "id": "uNeycekEmCaP",
        "outputId": "27d8f8bb-4212-49c2-9a46-bb52d73fd1f9"
      },
      "execution_count": 14,
      "outputs": [
        {
          "output_type": "stream",
          "name": "stdout",
          "text": [
            "Please enter hourly_pay_rate 21.333\n",
            "Please enter hours_worked 20\n",
            "The gross pay is:$ 426.65999999999997\n"
          ]
        }
      ]
    }
  ]
}