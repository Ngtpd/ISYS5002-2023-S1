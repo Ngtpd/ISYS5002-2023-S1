{
  "nbformat": 4,
  "nbformat_minor": 0,
  "metadata": {
    "colab": {
      "provenance": [],
      "authorship_tag": "ABX9TyPL4DdGWVUE45Twr5XiucVR",
      "include_colab_link": true
    },
    "kernelspec": {
      "name": "python3",
      "display_name": "Python 3"
    },
    "language_info": {
      "name": "python"
    }
  },
  "cells": [
    {
      "cell_type": "markdown",
      "metadata": {
        "id": "view-in-github",
        "colab_type": "text"
      },
      "source": [
        "<a href=\"https://colab.research.google.com/github/Ngtpd/ISYS5002-2023-S1/blob/main/Code_Magnet.ipynb\" target=\"_parent\"><img src=\"https://colab.research.google.com/assets/colab-badge.svg\" alt=\"Open In Colab\"/></a>"
      ]
    },
    {
      "cell_type": "markdown",
      "source": [],
      "metadata": {
        "id": "IMAwPyJn08up"
      }
    },
    {
      "cell_type": "markdown",
      "source": [
        "#Code Magnet\n",
        "**Algorithm to cook an omlellet, with the chilce**\n",
        "\n",
        "\n",
        "\n",
        "*   a plain omellet\n",
        "*   cheese omellet\n",
        "\n",
        "\n",
        "\n"
      ],
      "metadata": {
        "id": "pBBbyzBS0-3x"
      }
    },
    {
      "cell_type": "markdown",
      "source": [
        "1. Crack three eggs into bowl\n",
        "2. Stir eggs\n",
        "3. Heat saute pan\n",
        "4. Transfer eggs to pan\n",
        "5. While eggs aren't fully cooked:\n",
        "6. Whip eggs\n",
        "7. Remove pan from heat\n",
        "8. Transfer eggs to plate\n",
        "9. If the customer ordered cheese\n",
        "10. Add cheese on top\n",
        "11. Serve\n"
      ],
      "metadata": {
        "id": "JdFyr4152zeT"
      }
    }
  ]
}