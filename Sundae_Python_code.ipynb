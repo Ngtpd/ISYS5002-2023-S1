{
  "nbformat": 4,
  "nbformat_minor": 0,
  "metadata": {
    "colab": {
      "provenance": [],
      "authorship_tag": "ABX9TyNGKOi8R0jriiwthsy+PLwb",
      "include_colab_link": true
    },
    "kernelspec": {
      "name": "python3",
      "display_name": "Python 3"
    },
    "language_info": {
      "name": "python"
    }
  },
  "cells": [
    {
      "cell_type": "markdown",
      "metadata": {
        "id": "view-in-github",
        "colab_type": "text"
      },
      "source": [
        "<a href=\"https://colab.research.google.com/github/Ngtpd/ISYS5002-2023-S1/blob/main/Sundae_Python_code.ipynb\" target=\"_parent\"><img src=\"https://colab.research.google.com/assets/colab-badge.svg\" alt=\"Open In Colab\"/></a>"
      ]
    },
    {
      "cell_type": "code",
      "execution_count": null,
      "metadata": {
        "id": "tbxJzTAo5nKA"
      },
      "outputs": [],
      "source": [
        "#make a list of customers and store it in a variable \"customers\"\n",
        "customers = ['Jimmy', 'Kim', 'John', 'Stacie']"
      ]
    },
    {
      "cell_type": "code",
      "source": [
        "import random "
      ],
      "metadata": {
        "id": "QfXiFtRi7FWg"
      },
      "execution_count": null,
      "outputs": []
    },
    {
      "cell_type": "code",
      "source": [
        "#choose the randon winner into the list of \"customers\"\n",
        "winner = random.choice(customers)"
      ],
      "metadata": {
        "id": "MX1BDduW6SGy"
      },
      "execution_count": null,
      "outputs": []
    },
    {
      "cell_type": "code",
      "source": [
        "#add the flavor of icea cream\n",
        "flavor = 'vanilla'"
      ],
      "metadata": {
        "id": "On0ss6ql7dly"
      },
      "execution_count": null,
      "outputs": []
    },
    {
      "cell_type": "code",
      "source": [
        "print('Congratulations ' + winner +\n",
        " ' you have won an ice cream sundae!')\n"
      ],
      "metadata": {
        "colab": {
          "base_uri": "https://localhost:8080/"
        },
        "id": "wHAWtmA07oUD",
        "outputId": "a1be50fe-1b65-4bc8-eebb-32a486725ff8"
      },
      "execution_count": null,
      "outputs": [
        {
          "output_type": "stream",
          "name": "stdout",
          "text": [
            "Congratulations John you have won an ice cream sundae!\n"
          ]
        }
      ]
    },
    {
      "cell_type": "code",
      "source": [
        "#add the addtional topping for ice cream\n",
        "prompt = 'Would you like a cherry on top? '\n"
      ],
      "metadata": {
        "id": "9M7GbZEQ8E9u"
      },
      "execution_count": null,
      "outputs": []
    },
    {
      "cell_type": "code",
      "source": [
        "wants_cherry = input(prompt)"
      ],
      "metadata": {
        "colab": {
          "base_uri": "https://localhost:8080/"
        },
        "id": "BSiztOKm8SnJ",
        "outputId": "785b2d21-29f2-452b-9dcf-700c0bc2d35f"
      },
      "execution_count": null,
      "outputs": [
        {
          "name": "stdout",
          "output_type": "stream",
          "text": [
            "Would you like a cherry on top? yes\n"
          ]
        }
      ]
    }
  ]
}