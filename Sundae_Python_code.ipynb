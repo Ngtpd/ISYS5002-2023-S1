{
  "nbformat": 4,
  "nbformat_minor": 0,
  "metadata": {
    "colab": {
      "provenance": [],
      "authorship_tag": "ABX9TyNsYLypi8C241YEHdXtPR0q",
      "include_colab_link": true
    },
    "kernelspec": {
      "name": "python3",
      "display_name": "Python 3"
    },
    "language_info": {
      "name": "python"
    }
  },
  "cells": [
    {
      "cell_type": "markdown",
      "metadata": {
        "id": "view-in-github",
        "colab_type": "text"
      },
      "source": [
        "<a href=\"https://colab.research.google.com/github/Ngtpd/ISYS5002-2023-S1/blob/main/Sundae_Python_code.ipynb\" target=\"_parent\"><img src=\"https://colab.research.google.com/assets/colab-badge.svg\" alt=\"Open In Colab\"/></a>"
      ]
    },
    {
      "cell_type": "code",
      "execution_count": 19,
      "metadata": {
        "id": "tbxJzTAo5nKA"
      },
      "outputs": [],
      "source": [
        "#make a list of customers and store it in a variable \"customers\"\n",
        "customers = ['Jimmy', 'Kim', 'John', 'Stacie']"
      ]
    },
    {
      "cell_type": "code",
      "source": [
        "import random "
      ],
      "metadata": {
        "id": "QfXiFtRi7FWg"
      },
      "execution_count": 17,
      "outputs": []
    },
    {
      "cell_type": "code",
      "source": [
        "#choose the random winner into the list of \"customers\"\n",
        "winner = random.choice(customers)"
      ],
      "metadata": {
        "id": "MX1BDduW6SGy"
      },
      "execution_count": 20,
      "outputs": []
    },
    {
      "cell_type": "code",
      "source": [
        "#add the flavor of icea cream\n",
        "flavor = 'vanilla'"
      ],
      "metadata": {
        "id": "On0ss6ql7dly"
      },
      "execution_count": 21,
      "outputs": []
    },
    {
      "cell_type": "code",
      "source": [
        "#output the random winner's code\n",
        "print('Congratulations ' + winner +\n",
        " ' you have won an ice cream sundae!')\n"
      ],
      "metadata": {
        "colab": {
          "base_uri": "https://localhost:8080/"
        },
        "id": "wHAWtmA07oUD",
        "outputId": "e1ae003f-ac56-472f-ea7e-e090c43c7b1e"
      },
      "execution_count": 22,
      "outputs": [
        {
          "output_type": "stream",
          "name": "stdout",
          "text": [
            "Congratulations Stacie you have won an ice cream sundae!\n"
          ]
        }
      ]
    },
    {
      "cell_type": "code",
      "source": [
        "#add the addtional topping for ice cream's winner\n",
        "prompt = 'Would you like a cherry on top? '\n"
      ],
      "metadata": {
        "id": "9M7GbZEQ8E9u"
      },
      "execution_count": 23,
      "outputs": []
    },
    {
      "cell_type": "code",
      "source": [
        "#show option for winner] if \"yes\" or \"no\"\n",
        "wants_cherry = input(prompt)"
      ],
      "metadata": {
        "colab": {
          "base_uri": "https://localhost:8080/"
        },
        "id": "BSiztOKm8SnJ",
        "outputId": "f9cd8bf5-6384-4026-99c2-fb09fce2a26d"
      },
      "execution_count": 35,
      "outputs": [
        {
          "name": "stdout",
          "output_type": "stream",
          "text": [
            "Would you like a cherry on top? yes\n"
          ]
        }
      ]
    },
    {
      "cell_type": "code",
      "source": [
        "#set up the required order\n",
        "order = flavor + ' sundae '"
      ],
      "metadata": {
        "id": "lRp6oGeJDB03"
      },
      "execution_count": 31,
      "outputs": []
    },
    {
      "cell_type": "code",
      "source": [
        "#complete the order with option \"yes\" for topping\n",
        "if (wants_cherry == 'yes'):\n",
        " order = order + ' with a cherry on top'"
      ],
      "metadata": {
        "id": "qJxHqkZmD5sW"
      },
      "execution_count": 33,
      "outputs": []
    },
    {
      "cell_type": "code",
      "source": [
        "#output of this code\n",
        "print('One ' + order + ' for ' + winner +' coming right up...')"
      ],
      "metadata": {
        "colab": {
          "base_uri": "https://localhost:8080/"
        },
        "id": "fch5wahIDz4_",
        "outputId": "66db7ee2-e0a4-4d03-8c2f-7ac2fd530f3f"
      },
      "execution_count": 34,
      "outputs": [
        {
          "output_type": "stream",
          "name": "stdout",
          "text": [
            "One vanilla sundae  with a cherry on top for Stacie coming right up...\n"
          ]
        }
      ]
    }
  ]
}