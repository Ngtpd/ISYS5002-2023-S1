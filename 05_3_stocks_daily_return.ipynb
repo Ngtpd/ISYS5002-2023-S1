{
  "cells": [
    {
      "cell_type": "markdown",
      "metadata": {
        "id": "view-in-github",
        "colab_type": "text"
      },
      "source": [
        "<a href=\"https://colab.research.google.com/github/Ngtpd/ISYS5002-2023-S1/blob/main/05_3_stocks_daily_return.ipynb\" target=\"_parent\"><img src=\"https://colab.research.google.com/assets/colab-badge.svg\" alt=\"Open In Colab\"/></a>"
      ]
    },
    {
      "cell_type": "markdown",
      "source": [
        "# Module CSV"
      ],
      "metadata": {
        "id": "BieUazgSLMeI"
      }
    },
    {
      "cell_type": "markdown",
      "metadata": {
        "id": "KiOs3fgB9CD8"
      },
      "source": [
        "### Reading and Writing CSV file\n",
        "\n",
        "Text files work fine when we are referencing small amounts of information, but when we use larger amounts of data, adding structure helps in organizing and retrieving values. \n",
        "\n",
        "One common format found in business and social sciences alike (as well as any field concerned with data science) is the comma-separated values (CSV) format. \n",
        "\n",
        "**CSV files** are the most common format used for importing and exporting data from spreadsheets and databases. \n",
        "\n",
        "CSV files are text files that have delimiters.  A **delimiter** is a character that separates data values. \n",
        "\n",
        "You can explore CSV files in spreadsheet software (such as Microsoft Excel), which will remove delimiters (usually commas) and store data values in separate cells.\n",
        "\n",
        "\n",
        "One of the benefits of importing data files such as CSV files is the ability to read in a lot of data at once, parsing the data so your code can access individual values within the data. **By default, CSV files use commas (“,”) to separate data values**.\n",
        "\n"
      ]
    },
    {
      "cell_type": "markdown",
      "metadata": {
        "id": "-gWkazAAcPvU"
      },
      "source": [
        "**csv module** provides functions for working with CSV files"
      ]
    },
    {
      "cell_type": "code",
      "execution_count": null,
      "metadata": {
        "id": "RLTFUeGPDrfG"
      },
      "outputs": [],
      "source": [
        "#Writing to a CSV file\n",
        "\n",
        "#import csv module\n",
        "import csv\n",
        "\n",
        "#open file and write records\n",
        "with open(\"accounts.csv\", 'w')  as accounts:\n",
        "  writer = csv.writer(accounts)\n",
        "  writer.writerow([100, 'Jones', 24.98])\n",
        "  writer.writerow([200, 'Doe', 345.67])\n",
        "  writer.writerow([300, 'Williams', 0.00])\n",
        "  writer.writerow([400, 'Stone', -42.16])\n",
        "  writer.writerow([500, 'Rich', 224.62])\n"
      ]
    },
    {
      "cell_type": "code",
      "execution_count": null,
      "metadata": {
        "colab": {
          "base_uri": "https://localhost:8080/"
        },
        "id": "IFTbzVzFeYz_",
        "outputId": "22864349-649e-4f5c-cd87-ff745435ad0d"
      },
      "outputs": [
        {
          "output_type": "stream",
          "name": "stdout",
          "text": [
            "Accounts  Name      Balance \n",
            "100       Jones     24.98   \n",
            "200       Doe       345.67  \n",
            "300       Williams  0.0     \n",
            "400       Stone     -42.16  \n",
            "500       Rich      224.62  \n"
          ]
        }
      ],
      "source": [
        "#reading from CSV file\n",
        "#The csv module’s reader function returns an object that reads CSV-format data from the specified file object\n",
        "\n",
        "#open file and read records\n",
        "import csv\n",
        "\n",
        "#open file and write records\n",
        "with open(\"accounts.csv\", 'r')  as accounts:\n",
        "  reader = csv.reader(accounts)\n",
        "  print(f'{\"Accounts\":10}{\"Name\":10}{\"Balance\":8}')\n",
        "  for record in reader:\n",
        "    accountid, name, balance = record\n",
        "    #print(record)\n",
        "    #print(accountid, name, balance)\n",
        "    print(f'{accountid:10}{name:10}{balance:8}')\n"
      ]
    },
    {
      "cell_type": "markdown",
      "source": [
        "## Working with large CSV file"
      ],
      "metadata": {
        "id": "e79alZIOnrfL"
      }
    },
    {
      "cell_type": "code",
      "source": [
        "# go to the website => click \"Historical data\" \n",
        "# click choosing Time period:\"25 Mar 2023 - 30 Mar 2023\" \n",
        "# click on right to copy the link address :https://query1.finance.yahoo.com/v7/finance/download/BHP.AX?period1=1648614410&period2=1680150410&interval=1d&events=history&includeAdjustedClose=true"
      ],
      "metadata": {
        "id": "Wt-YOw55IlO0"
      },
      "execution_count": null,
      "outputs": []
    },
    {
      "cell_type": "code",
      "source": [
        "!curl \"https://query1.finance.yahoo.com/v7/finance/download/BHP.AX?period1=1679702400&period2=1680134400&interval=1d&events=history&includeAdjustedClose=true\" > BHPData.csv\n",
        "#!curl \"https://query1.finance.yahoo.com/v7/finance/download/NAB.AX?period1=1653004800&period2=1661040000&interval=1d&events=history&includeAdjustedClose=true\" > NABData.csv"
      ],
      "metadata": {
        "id": "fLGruaTOrSvD",
        "colab": {
          "base_uri": "https://localhost:8080/"
        },
        "outputId": "876ec07f-cc13-49a9-b8cb-c94a20b45e94"
      },
      "execution_count": null,
      "outputs": [
        {
          "output_type": "stream",
          "name": "stdout",
          "text": [
            "  % Total    % Received % Xferd  Average Speed   Time    Time     Time  Current\n",
            "                                 Dload  Upload   Total   Spent    Left  Speed\n",
            "100   290  100   290    0     0    932      0 --:--:-- --:--:-- --:--:--   929\n"
          ]
        }
      ]
    },
    {
      "cell_type": "code",
      "source": [],
      "metadata": {
        "id": "Ov04TSCafdEP"
      },
      "execution_count": null,
      "outputs": []
    },
    {
      "cell_type": "code",
      "source": [
        "import csv\n",
        "\n",
        "#open file and write records\n",
        "with open(\"BHPData.csv\", 'r')  as data:\n",
        "  reader = csv.reader(data)\n",
        "  print(next(reader))\n",
        "  print(next(reader))\n",
        "  print(next(reader))\n"
      ],
      "metadata": {
        "id": "8Mr72pnuwVt-",
        "colab": {
          "base_uri": "https://localhost:8080/"
        },
        "outputId": "53d6b094-2eee-48a9-f056-c9fa5b57a8bc"
      },
      "execution_count": null,
      "outputs": [
        {
          "output_type": "stream",
          "name": "stdout",
          "text": [
            "['Date', 'Open', 'High', 'Low', 'Close', 'Adj Close', 'Volume']\n",
            "['2023-03-27', '43.900002', '43.980000', '43.340000', '43.549999', '43.549999', '6404693']\n",
            "['2023-03-28', '43.980000', '44.549999', '43.930000', '44.400002', '44.400002', '10442357']\n"
          ]
        }
      ]
    },
    {
      "cell_type": "code",
      "source": [
        "import csv\n",
        "\n",
        "date = []\n",
        "close = []\n",
        "c = 0\n",
        "#open file and write records\n",
        "with open(\"BHPData.csv\", 'r')  as data:\n",
        "  reader = csv.reader(data)\n",
        "  header = next(reader, None) #get the headers\n",
        "  #print(header)\n",
        "  for record in reader:\n",
        "    date.append(record[0])\n",
        "    close.append(float(record[5]))\n",
        "\n",
        "# plot the results\n",
        "from matplotlib import pyplot as plt\n",
        "f = plt.figure()\n",
        "f.set_figwidth(20)\n",
        "f.set_figheight(5)\n",
        "plt.plot(date, close)\n"
      ],
      "metadata": {
        "id": "BWv-WdWQrrIE",
        "colab": {
          "base_uri": "https://localhost:8080/",
          "height": 235
        },
        "outputId": "1aa7632e-44ba-4afa-a7ac-d7b655d8efe1"
      },
      "execution_count": null,
      "outputs": [
        {
          "output_type": "error",
          "ename": "ValueError",
          "evalue": "ignored",
          "traceback": [
            "\u001b[0;31m---------------------------------------------------------------------------\u001b[0m",
            "\u001b[0;31mValueError\u001b[0m                                Traceback (most recent call last)",
            "\u001b[0;32m<ipython-input-9-996b7106183a>\u001b[0m in \u001b[0;36m<cell line: 7>\u001b[0;34m()\u001b[0m\n\u001b[1;32m     11\u001b[0m   \u001b[0;32mfor\u001b[0m \u001b[0mrecord\u001b[0m \u001b[0;32min\u001b[0m \u001b[0mreader\u001b[0m\u001b[0;34m:\u001b[0m\u001b[0;34m\u001b[0m\u001b[0;34m\u001b[0m\u001b[0m\n\u001b[1;32m     12\u001b[0m     \u001b[0mdate\u001b[0m\u001b[0;34m.\u001b[0m\u001b[0mappend\u001b[0m\u001b[0;34m(\u001b[0m\u001b[0mrecord\u001b[0m\u001b[0;34m[\u001b[0m\u001b[0;36m0\u001b[0m\u001b[0;34m]\u001b[0m\u001b[0;34m)\u001b[0m\u001b[0;34m\u001b[0m\u001b[0;34m\u001b[0m\u001b[0m\n\u001b[0;32m---> 13\u001b[0;31m     \u001b[0mclose\u001b[0m\u001b[0;34m.\u001b[0m\u001b[0mappend\u001b[0m\u001b[0;34m(\u001b[0m\u001b[0mfloat\u001b[0m\u001b[0;34m(\u001b[0m\u001b[0mrecord\u001b[0m\u001b[0;34m[\u001b[0m\u001b[0;36m5\u001b[0m\u001b[0;34m]\u001b[0m\u001b[0;34m)\u001b[0m\u001b[0;34m)\u001b[0m\u001b[0;34m\u001b[0m\u001b[0;34m\u001b[0m\u001b[0m\n\u001b[0m\u001b[1;32m     14\u001b[0m \u001b[0;34m\u001b[0m\u001b[0m\n\u001b[1;32m     15\u001b[0m \u001b[0;31m# plot the results\u001b[0m\u001b[0;34m\u001b[0m\u001b[0;34m\u001b[0m\u001b[0m\n",
            "\u001b[0;31mValueError\u001b[0m: could not convert string to float: 'null'"
          ]
        }
      ]
    },
    {
      "cell_type": "markdown",
      "source": [
        "# Module Pandas"
      ],
      "metadata": {
        "id": "3urnKWF4LPwK"
      }
    },
    {
      "cell_type": "markdown",
      "metadata": {
        "id": "fKUibINgWaEg"
      },
      "source": [
        "## Using Pandas Module to Read in CSV Files (the “Easy Way”)\n",
        "\n",
        "An easier method of importing files into Python is using the **Pandas** module. Pandas (name derived from “panel data”) is a data analysis library that, among other things, makes reading in CSV files and accessing the contained data much easier \n",
        "\n",
        "The primary data structure used in Pandas are a ***DataFrame***. A DataFrame has a *two-dimensional tabular format using rows and columns*. Using a DataFrame, we can reference columns by name, rather than having to count to figure out which column number we want. Pandas provides an assortment of methods like .mean() that will do summary statistics on our data\n",
        "\n",
        " \n",
        "Read From a CSV File Using Pandas\n",
        "\n",
        "Source: *Kaefer, F., & Kaefer, P. (2020). Introduction to Python \n",
        "Programming for Business and Social Science Applications. SAGE Publications, Inc. (US).*"
      ]
    },
    {
      "cell_type": "code",
      "source": [
        "!curl \"https://query1.finance.yahoo.com/v7/finance/download/BHP.AX?period1=1629553321&period2=1661089321&interval=1d&events=history&includeAdjustedClose=true\" > BHPData.csv"
      ],
      "metadata": {
        "id": "RNGquOZONfU8",
        "colab": {
          "base_uri": "https://localhost:8080/"
        },
        "outputId": "df61c33d-589b-4b24-979e-e34e65d9501d"
      },
      "execution_count": null,
      "outputs": [
        {
          "output_type": "stream",
          "name": "stdout",
          "text": [
            "  % Total    % Received % Xferd  Average Speed   Time    Time     Time  Current\n",
            "                                 Dload  Upload   Total   Spent    Left  Speed\n",
            "100 17550    0 17550    0     0  35100      0 --:--:-- --:--:-- --:--:-- 35100\n"
          ]
        }
      ]
    },
    {
      "cell_type": "code",
      "execution_count": null,
      "metadata": {
        "id": "O0aJQTGiM0Tc",
        "colab": {
          "base_uri": "https://localhost:8080/",
          "height": 387
        },
        "outputId": "bf137162-97d7-4c41-bf76-8d76dde9893a"
      },
      "outputs": [
        {
          "output_type": "stream",
          "name": "stdout",
          "text": [
            "         Date  Adj Close\n",
            "0  2021-08-23  36.387123\n",
            "1  2021-08-24  36.763599\n",
            "2  2021-08-25  37.221920\n",
            "3  2021-08-26  36.788158\n",
            "4  2021-08-27  36.583549\n"
          ]
        },
        {
          "output_type": "execute_result",
          "data": {
            "text/plain": [
              "[<matplotlib.lines.Line2D at 0x7f6431448280>]"
            ]
          },
          "metadata": {},
          "execution_count": 15
        },
        {
          "output_type": "display_data",
          "data": {
            "text/plain": [
              "<Figure size 432x288 with 1 Axes>"
            ],
            "image/png": "[encoded data removed]"
          },
          "metadata": {
            "needs_background": "light"
          }
        }
      ],
      "source": [
        "#import pandas module\n",
        "import pandas as pd\n",
        "from matplotlib import pyplot as plt\n",
        "\n",
        "# Load the data\n",
        "data = pd.read_csv('BHPData.csv')\n",
        "print(data.head())\n",
        "\n",
        "df = data[['Date', 'Adj Close']]\n",
        "print(df.head())\n",
        "\n",
        "plt.plot(data['Date'], data['Adj Close'])\n"
      ]
    },
    {
      "cell_type": "code",
      "source": [
        "#import pandas module\n",
        "import pandas as pd\n",
        "from matplotlib import pyplot as plt\n",
        "\n",
        "# Load the data\n",
        "df = pd.read_csv('BHPData.csv')  #caption \"df\" before pd.read_csv()\n",
        "\n",
        "df.tail()\n",
        "df.info()\n",
        "df.describe()\n",
        "\n",
        "plt.plot(data['Date'], data['Adj Close'])\n"
      ],
      "metadata": {
        "colab": {
          "base_uri": "https://localhost:8080/",
          "height": 690
        },
        "id": "ybTbkE2YKNn_",
        "outputId": "660bfd90-90a2-49d8-cc7a-fa68d0a88b58"
      },
      "execution_count": null,
      "outputs": [
        {
          "output_type": "stream",
          "name": "stdout",
          "text": [
            "<class 'pandas.core.frame.DataFrame'>\n",
            "RangeIndex: 4 entries, 0 to 3\n",
            "Data columns (total 7 columns):\n",
            " #   Column     Non-Null Count  Dtype  \n",
            "---  ------     --------------  -----  \n",
            " 0   Date       4 non-null      object \n",
            " 1   Open       3 non-null      float64\n",
            " 2   High       3 non-null      float64\n",
            " 3   Low        3 non-null      float64\n",
            " 4   Close      3 non-null      float64\n",
            " 5   Adj Close  3 non-null      float64\n",
            " 6   Volume     3 non-null      float64\n",
            "dtypes: float64(6), object(1)\n",
            "memory usage: 352.0+ bytes\n"
          ]
        },
        {
          "output_type": "execute_result",
          "data": {
            "text/plain": [
              "[<matplotlib.lines.Line2D at 0x7f4ac2d4ae80>]"
            ]
          },
          "metadata": {},
          "execution_count": 13
        },
        {
          "output_type": "display_data",
          "data": {
            "text/plain": [
              "<Figure size 640x480 with 1 Axes>"
            ],
            "image/png": "[encoded data removed]"
          },
          "metadata": {}
        }
      ]
    },
    {
      "cell_type": "code",
      "source": [
        "#2\n",
        "#import pandas module\n",
        "import pandas as pd\n",
        "from matplotlib import pyplot as plt\n",
        "\n",
        "# Load the data\n",
        "df = pd.read_csv('BHPData.csv')  #caption \"df\" before pd.read_csv()\n",
        "\n",
        "print(df.tail())\n",
        "df.info()\n",
        "df.describe()\n",
        "\n",
        "df1=df[['Date','Close']]\n",
        "df1\n",
        "plt.plot(df1['Date'], df1['Close']) #shows the diagram\n"
      ],
      "metadata": {
        "colab": {
          "base_uri": "https://localhost:8080/",
          "height": 777
        },
        "id": "1x3WbfrSLAun",
        "outputId": "ab9bd97f-c7da-4352-b005-822cfc5a2dad"
      },
      "execution_count": null,
      "outputs": [
        {
          "output_type": "stream",
          "name": "stdout",
          "text": [
            "         Date       Open       High    Low      Close  Adj Close      Volume\n",
            "0  2023-03-27  43.900002  43.980000  43.34  43.549999  43.549999   6404693.0\n",
            "1  2023-03-28  43.980000  44.549999  43.93  44.400002  44.400002  10442357.0\n",
            "2  2023-03-29        NaN        NaN    NaN        NaN        NaN         NaN\n",
            "3  2023-03-30  45.980000  46.230000  45.84  46.049999  46.049999   5207986.0\n",
            "<class 'pandas.core.frame.DataFrame'>\n",
            "RangeIndex: 4 entries, 0 to 3\n",
            "Data columns (total 7 columns):\n",
            " #   Column     Non-Null Count  Dtype  \n",
            "---  ------     --------------  -----  \n",
            " 0   Date       4 non-null      object \n",
            " 1   Open       3 non-null      float64\n",
            " 2   High       3 non-null      float64\n",
            " 3   Low        3 non-null      float64\n",
            " 4   Close      3 non-null      float64\n",
            " 5   Adj Close  3 non-null      float64\n",
            " 6   Volume     3 non-null      float64\n",
            "dtypes: float64(6), object(1)\n",
            "memory usage: 352.0+ bytes\n"
          ]
        },
        {
          "output_type": "execute_result",
          "data": {
            "text/plain": [
              "[<matplotlib.lines.Line2D at 0x7f4ac29544c0>]"
            ]
          },
          "metadata": {},
          "execution_count": 20
        },
        {
          "output_type": "display_data",
          "data": {
            "text/plain": [
              "<Figure size 640x480 with 1 Axes>"
            ],
            "image/png": "[encoded data removed]"
          },
          "metadata": {}
        }
      ]
    },
    {
      "cell_type": "code",
      "source": [
        "#3\n",
        "#import pandas module\n",
        "import pandas as pd\n",
        "from matplotlib import pyplot as plt\n",
        "\n",
        "# Load the data\n",
        "df = pd.read_csv('BHPData.csv')  #caption \"df\" before pd.read_csv()\n",
        "\n",
        "print(df.tail())\n",
        "df.info()\n",
        "df.describe()\n",
        "\n",
        "df1=df[['Date','Close']]\n",
        "df1\n",
        "df['daily_returns']=df['Close']-df['Close'].shift(1)\n",
        "print(df['daily_returns'])\n",
        "plt.plot(df1['Date'], df1['daily_returns']) #shows the diagram\n"
      ],
      "metadata": {
        "colab": {
          "base_uri": "https://localhost:8080/",
          "height": 918
        },
        "id": "a2bnyfHSNZpC",
        "outputId": "9d8677ce-8ed7-4600-be87-fe04d3181504"
      },
      "execution_count": null,
      "outputs": [
        {
          "output_type": "stream",
          "name": "stdout",
          "text": [
            "         Date       Open       High    Low      Close  Adj Close      Volume\n",
            "0  2023-03-27  43.900002  43.980000  43.34  43.549999  43.549999   6404693.0\n",
            "1  2023-03-28  43.980000  44.549999  43.93  44.400002  44.400002  10442357.0\n",
            "2  2023-03-29        NaN        NaN    NaN        NaN        NaN         NaN\n",
            "3  2023-03-30  45.980000  46.230000  45.84  46.049999  46.049999   5207986.0\n",
            "<class 'pandas.core.frame.DataFrame'>\n",
            "RangeIndex: 4 entries, 0 to 3\n",
            "Data columns (total 7 columns):\n",
            " #   Column     Non-Null Count  Dtype  \n",
            "---  ------     --------------  -----  \n",
            " 0   Date       4 non-null      object \n",
            " 1   Open       3 non-null      float64\n",
            " 2   High       3 non-null      float64\n",
            " 3   Low        3 non-null      float64\n",
            " 4   Close      3 non-null      float64\n",
            " 5   Adj Close  3 non-null      float64\n",
            " 6   Volume     3 non-null      float64\n",
            "dtypes: float64(6), object(1)\n",
            "memory usage: 352.0+ bytes\n",
            "0         NaN\n",
            "1    0.850003\n",
            "2         NaN\n",
            "3         NaN\n",
            "Name: daily_returns, dtype: float64\n"
          ]
        },
        {
          "output_type": "error",
          "ename": "KeyError",
          "evalue": "ignored",
          "traceback": [
            "\u001b[0;31m---------------------------------------------------------------------------\u001b[0m",
            "\u001b[0;31mKeyError\u001b[0m                                  Traceback (most recent call last)",
            "\u001b[0;32m/usr/local/lib/python3.9/dist-packages/pandas/core/indexes/base.py\u001b[0m in \u001b[0;36mget_loc\u001b[0;34m(self, key, method, tolerance)\u001b[0m\n\u001b[1;32m   3628\u001b[0m             \u001b[0;32mtry\u001b[0m\u001b[0;34m:\u001b[0m\u001b[0;34m\u001b[0m\u001b[0;34m\u001b[0m\u001b[0m\n\u001b[0;32m-> 3629\u001b[0;31m                 \u001b[0;32mreturn\u001b[0m \u001b[0mself\u001b[0m\u001b[0;34m.\u001b[0m\u001b[0m_engine\u001b[0m\u001b[0;34m.\u001b[0m\u001b[0mget_loc\u001b[0m\u001b[0;34m(\u001b[0m\u001b[0mcasted_key\u001b[0m\u001b[0;34m)\u001b[0m\u001b[0;34m\u001b[0m\u001b[0;34m\u001b[0m\u001b[0m\n\u001b[0m\u001b[1;32m   3630\u001b[0m             \u001b[0;32mexcept\u001b[0m \u001b[0mKeyError\u001b[0m \u001b[0;32mas\u001b[0m \u001b[0merr\u001b[0m\u001b[0;34m:\u001b[0m\u001b[0;34m\u001b[0m\u001b[0;34m\u001b[0m\u001b[0m\n",
            "\u001b[0;32m/usr/local/lib/python3.9/dist-packages/pandas/_libs/index.pyx\u001b[0m in \u001b[0;36mpandas._libs.index.IndexEngine.get_loc\u001b[0;34m()\u001b[0m\n",
            "\u001b[0;32m/usr/local/lib/python3.9/dist-packages/pandas/_libs/index.pyx\u001b[0m in \u001b[0;36mpandas._libs.index.IndexEngine.get_loc\u001b[0;34m()\u001b[0m\n",
            "\u001b[0;32mpandas/_libs/hashtable_class_helper.pxi\u001b[0m in \u001b[0;36mpandas._libs.hashtable.PyObjectHashTable.get_item\u001b[0;34m()\u001b[0m\n",
            "\u001b[0;32mpandas/_libs/hashtable_class_helper.pxi\u001b[0m in \u001b[0;36mpandas._libs.hashtable.PyObjectHashTable.get_item\u001b[0;34m()\u001b[0m\n",
            "\u001b[0;31mKeyError\u001b[0m: 'daily_returns'",
            "\nThe above exception was the direct cause of the following exception:\n",
            "\u001b[0;31mKeyError\u001b[0m                                  Traceback (most recent call last)",
            "\u001b[0;32m<ipython-input-24-aa5383ce77e5>\u001b[0m in \u001b[0;36m<cell line: 17>\u001b[0;34m()\u001b[0m\n\u001b[1;32m     15\u001b[0m \u001b[0mdf\u001b[0m\u001b[0;34m[\u001b[0m\u001b[0;34m'daily_returns'\u001b[0m\u001b[0;34m]\u001b[0m\u001b[0;34m=\u001b[0m\u001b[0mdf\u001b[0m\u001b[0;34m[\u001b[0m\u001b[0;34m'Close'\u001b[0m\u001b[0;34m]\u001b[0m\u001b[0;34m-\u001b[0m\u001b[0mdf\u001b[0m\u001b[0;34m[\u001b[0m\u001b[0;34m'Close'\u001b[0m\u001b[0;34m]\u001b[0m\u001b[0;34m.\u001b[0m\u001b[0mshift\u001b[0m\u001b[0;34m(\u001b[0m\u001b[0;36m1\u001b[0m\u001b[0;34m)\u001b[0m\u001b[0;34m\u001b[0m\u001b[0;34m\u001b[0m\u001b[0m\n\u001b[1;32m     16\u001b[0m \u001b[0mprint\u001b[0m\u001b[0;34m(\u001b[0m\u001b[0mdf\u001b[0m\u001b[0;34m[\u001b[0m\u001b[0;34m'daily_returns'\u001b[0m\u001b[0;34m]\u001b[0m\u001b[0;34m)\u001b[0m\u001b[0;34m\u001b[0m\u001b[0;34m\u001b[0m\u001b[0m\n\u001b[0;32m---> 17\u001b[0;31m \u001b[0mplt\u001b[0m\u001b[0;34m.\u001b[0m\u001b[0mplot\u001b[0m\u001b[0;34m(\u001b[0m\u001b[0mdf1\u001b[0m\u001b[0;34m[\u001b[0m\u001b[0;34m'Date'\u001b[0m\u001b[0;34m]\u001b[0m\u001b[0;34m,\u001b[0m \u001b[0mdf1\u001b[0m\u001b[0;34m[\u001b[0m\u001b[0;34m'daily_returns'\u001b[0m\u001b[0;34m]\u001b[0m\u001b[0;34m)\u001b[0m \u001b[0;31m#shows the diagram\u001b[0m\u001b[0;34m\u001b[0m\u001b[0;34m\u001b[0m\u001b[0m\n\u001b[0m",
            "\u001b[0;32m/usr/local/lib/python3.9/dist-packages/pandas/core/frame.py\u001b[0m in \u001b[0;36m__getitem__\u001b[0;34m(self, key)\u001b[0m\n\u001b[1;32m   3503\u001b[0m             \u001b[0;32mif\u001b[0m \u001b[0mself\u001b[0m\u001b[0;34m.\u001b[0m\u001b[0mcolumns\u001b[0m\u001b[0;34m.\u001b[0m\u001b[0mnlevels\u001b[0m \u001b[0;34m>\u001b[0m \u001b[0;36m1\u001b[0m\u001b[0;34m:\u001b[0m\u001b[0;34m\u001b[0m\u001b[0;34m\u001b[0m\u001b[0m\n\u001b[1;32m   3504\u001b[0m                 \u001b[0;32mreturn\u001b[0m \u001b[0mself\u001b[0m\u001b[0;34m.\u001b[0m\u001b[0m_getitem_multilevel\u001b[0m\u001b[0;34m(\u001b[0m\u001b[0mkey\u001b[0m\u001b[0;34m)\u001b[0m\u001b[0;34m\u001b[0m\u001b[0;34m\u001b[0m\u001b[0m\n\u001b[0;32m-> 3505\u001b[0;31m             \u001b[0mindexer\u001b[0m \u001b[0;34m=\u001b[0m \u001b[0mself\u001b[0m\u001b[0;34m.\u001b[0m\u001b[0mcolumns\u001b[0m\u001b[0;34m.\u001b[0m\u001b[0mget_loc\u001b[0m\u001b[0;34m(\u001b[0m\u001b[0mkey\u001b[0m\u001b[0;34m)\u001b[0m\u001b[0;34m\u001b[0m\u001b[0;34m\u001b[0m\u001b[0m\n\u001b[0m\u001b[1;32m   3506\u001b[0m             \u001b[0;32mif\u001b[0m \u001b[0mis_integer\u001b[0m\u001b[0;34m(\u001b[0m\u001b[0mindexer\u001b[0m\u001b[0;34m)\u001b[0m\u001b[0;34m:\u001b[0m\u001b[0;34m\u001b[0m\u001b[0;34m\u001b[0m\u001b[0m\n\u001b[1;32m   3507\u001b[0m                 \u001b[0mindexer\u001b[0m \u001b[0;34m=\u001b[0m \u001b[0;34m[\u001b[0m\u001b[0mindexer\u001b[0m\u001b[0;34m]\u001b[0m\u001b[0;34m\u001b[0m\u001b[0;34m\u001b[0m\u001b[0m\n",
            "\u001b[0;32m/usr/local/lib/python3.9/dist-packages/pandas/core/indexes/base.py\u001b[0m in \u001b[0;36mget_loc\u001b[0;34m(self, key, method, tolerance)\u001b[0m\n\u001b[1;32m   3629\u001b[0m                 \u001b[0;32mreturn\u001b[0m \u001b[0mself\u001b[0m\u001b[0;34m.\u001b[0m\u001b[0m_engine\u001b[0m\u001b[0;34m.\u001b[0m\u001b[0mget_loc\u001b[0m\u001b[0;34m(\u001b[0m\u001b[0mcasted_key\u001b[0m\u001b[0;34m)\u001b[0m\u001b[0;34m\u001b[0m\u001b[0;34m\u001b[0m\u001b[0m\n\u001b[1;32m   3630\u001b[0m             \u001b[0;32mexcept\u001b[0m \u001b[0mKeyError\u001b[0m \u001b[0;32mas\u001b[0m \u001b[0merr\u001b[0m\u001b[0;34m:\u001b[0m\u001b[0;34m\u001b[0m\u001b[0;34m\u001b[0m\u001b[0m\n\u001b[0;32m-> 3631\u001b[0;31m                 \u001b[0;32mraise\u001b[0m \u001b[0mKeyError\u001b[0m\u001b[0;34m(\u001b[0m\u001b[0mkey\u001b[0m\u001b[0;34m)\u001b[0m \u001b[0;32mfrom\u001b[0m \u001b[0merr\u001b[0m\u001b[0;34m\u001b[0m\u001b[0;34m\u001b[0m\u001b[0m\n\u001b[0m\u001b[1;32m   3632\u001b[0m             \u001b[0;32mexcept\u001b[0m \u001b[0mTypeError\u001b[0m\u001b[0;34m:\u001b[0m\u001b[0;34m\u001b[0m\u001b[0;34m\u001b[0m\u001b[0m\n\u001b[1;32m   3633\u001b[0m                 \u001b[0;31m# If we have a listlike key, _check_indexing_error will raise\u001b[0m\u001b[0;34m\u001b[0m\u001b[0;34m\u001b[0m\u001b[0m\n",
            "\u001b[0;31mKeyError\u001b[0m: 'daily_returns'"
          ]
        }
      ]
    },
    {
      "cell_type": "markdown",
      "source": [
        "## Daily Return of Stock Data\n",
        "\n",
        "### Daily Return formula\n",
        "\n",
        "Visiting a financial website that provides stock price information. Type a company’s name or its stock’s ticker symbol. Find in the historical prices section the stock’s closing price for any two consecutive days. For example, assume a stock’s closing price was \\$36.75 yesterday and that its closing price was \\$35.50 the previous day. Subtract the previous day’s closing price from the most recent day’s closing price. In this example, subtract \\$35.50 from \\$36.75 to get \\$1.25.\n",
        "\n",
        "Now divide the results by the previous day's closing prices to calculate the daily return.  Multiply this by 100 to convert to a percentage.  So $1.25 divided by #35.50 equals 0.035.  Multiply 0.035 by 100 to 3.5 percent.\n",
        "\n",
        "    Daily return = (Today prices - Yesterday price) / Yesterday price\n",
        "\n",
        "\n",
        "\n",
        "To find the URL, navigate to Yahoo finance, type in NAB.AX, click the 'Historical' tab.  towards the right is a download option.  right click on the download link and select 'Copy Link Address' form the popup menu.  Now paste to the URL assignment statement."
      ],
      "metadata": {
        "id": "QqhiTK-eOCYC"
      }
    },
    {
      "cell_type": "code",
      "source": [],
      "metadata": {
        "id": "L4l3gXQgOZAb"
      },
      "execution_count": null,
      "outputs": []
    },
    {
      "cell_type": "markdown",
      "metadata": {
        "id": "gTo3bmwTEAbJ"
      },
      "source": [
        "Sources:\n",
        "\n",
        "*Kaefer, F., & Kaefer, P. (2020). Introduction to Python \n",
        "Programming for Business and Social Science Applications. SAGE Publications, Inc. (US).*\n",
        "\n",
        "*Tony Gaddis, Starting out with Python, 5th Edition*\n",
        "\n",
        "*Deitel & Deitel, Intro to Python for Computer Science and Data Science, Global Edition*\n"
      ]
    }
  ],
  "metadata": {
    "colab": {
      "provenance": [],
      "collapsed_sections": [
        "KiOs3fgB9CD8"
      ],
      "include_colab_link": true
    },
    "kernelspec": {
      "display_name": "Python 3",
      "name": "python3"
    },
    "language_info": {
      "name": "python"
    }
  },
  "nbformat": 4,
  "nbformat_minor": 0
}