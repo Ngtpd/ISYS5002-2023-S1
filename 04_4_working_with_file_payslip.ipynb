{
  "cells": [
    {
      "cell_type": "markdown",
      "metadata": {
        "id": "view-in-github",
        "colab_type": "text"
      },
      "source": [
        "<a href=\"https://colab.research.google.com/github/Ngtpd/ISYS5002-2023-S1/blob/main/04_4_working_with_file_payslip.ipynb\" target=\"_parent\"><img src=\"https://colab.research.google.com/assets/colab-badge.svg\" alt=\"Open In Colab\"/></a>"
      ]
    },
    {
      "cell_type": "markdown",
      "metadata": {
        "id": "kF8ldRydTDPx"
      },
      "source": [
        "# Payslip\n",
        "\n",
        "A payslip is a document that shows their total wages earned for a set period. \n",
        "This might be from a salary, hourly wages or commission. Payslips are also know as ‘pay advice’.  Traditionally the payslip was a paper document attached. Today\n",
        "most organisations provide them electronically.\n",
        "\n",
        "## Task 0 - Import into GitHub\n",
        "First, import the notebook into Colab and save an initial copy to GitHub.\n",
        "\n",
        "## Task 1 - Start Simple\n",
        "\n",
        "Writing complete robust programs can take time.  Often the more we understand a problem the easier it is to implement the solution.   One approach is to implement the simplest version of a program and then slowly add functionality.\n",
        "\n",
        "This notebook aims to start simple and slowly build up the program.\n",
        "The approach we take below is one way to understand a problem, step 1 of our development process. Complex projects, often follow a similar idea\n",
        "where they implement a minimal program, and each week or month has intense periods where the team adds functionality.  These advanced methodologies are beyond the scope of an introductory programming course but by starting small and slowly adding functionality we do capture the essence of the process.\n",
        "\n"
      ]
    },
    {
      "cell_type": "markdown",
      "source": [
        "## The following is the payslip program we created last week"
      ],
      "metadata": {
        "id": "sqMOWCoYIl9u"
      }
    },
    {
      "cell_type": "code",
      "execution_count": null,
      "metadata": {
        "id": "cJwgf8nZWDF6"
      },
      "outputs": [],
      "source": [
        "# FUNCTION: calculate_pay\n",
        "# create function to calculate pay\n",
        "\n",
        "def calculate_pay(salary, sales, comm):\n",
        "  # calculate the commision\n",
        "  commission = (comm/100) * sales\n",
        "\n",
        "  # calculate the tax\n",
        "  tax = (salary + commission) * 0.10\n",
        "\n",
        "  # calculate the pay\n",
        "  pay = salary + commission - tax\n",
        "\n",
        "  #print(commission, tax, pay)\n",
        "  return commission, tax, pay\n",
        " "
      ]
    },
    {
      "cell_type": "code",
      "source": [
        "# PUTTING IT ALL TOGETHER\n",
        "\n",
        "# get user input - name\n",
        "name = input(\"Please enter name: \")\n",
        "\n",
        "# get user input for salary\n",
        "salary = int(input(\"Please enter salary: \"))\n",
        "\n",
        "# get user input for sales\n",
        "sales = int(input(\"Please enter sales: \"))\n",
        "\n",
        "# get user input for commission\n",
        "comm_rate = float(input(\"Please enter commission rate: \"))\n",
        "\n",
        "# pass the salary, sales & commission values to function calculate_pay\n",
        "# receive/capture the return values from the function\n",
        "comm_result, tax_result, pay_result = calculate_pay(salary, sales, comm_rate)\n",
        "\n",
        "# print out the payslip nicely formatted\n",
        "print(f'\\n2=== Payslip of {name} ===')\n",
        "print(f\"Salary: {salary:9} \\nCommission: {comm_result:2} \\nTax: {tax_result:13} \\nTotal pay: {pay_result:8}\")\n"
      ],
      "metadata": {
        "id": "uqjNAtdf8zM-",
        "colab": {
          "base_uri": "https://localhost:8080/"
        },
        "outputId": "c483e24f-1105-48b2-92bc-8610d3af4796"
      },
      "execution_count": null,
      "outputs": [
        {
          "output_type": "stream",
          "name": "stdout",
          "text": [
            "Please enter name: Darcey\n",
            "Please enter salary: 20000\n",
            "Please enter sales: 30000\n",
            "Please enter commission rate: 0.2\n",
            "\n",
            "2=== Payslip of Darcey ===\n",
            "Salary:     20000 \n",
            "Commission: 60.0 \n",
            "Tax:        2006.0 \n",
            "Total pay:  18054.0\n"
          ]
        }
      ]
    },
    {
      "cell_type": "markdown",
      "source": [
        "## Modify the *payslip* program to \n",
        "* get user input and save the user input into a csv file\n",
        "  * include error handling for any exceptions that may arise during user input\n",
        "  * where possible, use functions to group your code"
      ],
      "metadata": {
        "id": "UCG4KxkJ-wBF"
      }
    },
    {
      "cell_type": "markdown",
      "source": [
        "Problem analysis\n",
        "1. get the input\n",
        "2. input the user date into a csv file\n",
        "3. input validation or error handling\n",
        "ALgorithm/Steps\n",
        "1. get the input\n",
        "2. validation the input and do error handling\n",
        "*use try/excepy to handle errors\n",
        "3. store the user input to csv file\n"
      ],
      "metadata": {
        "id": "2UZpsOhrIh0G"
      }
    },
    {
      "cell_type": "code",
      "source": [
        "try:\n",
        "  name = input(\"Please enter name: \")\n",
        "  salary = int(input(\"Please enter salary: \"))\n",
        "  sales = int(input(\"Please enter sales: \"))\n",
        "  comm_rate = float(input(\"Please enter commission rate: \"))\n",
        "except ValueError:\n",
        "  print('Please enter a whole number')\n",
        "except:\n",
        "  print(\"Invalid input. Input error. Please check your input and try again\")\n",
        "\n",
        "input_data=[name, salary, sales, comm_rate]\n",
        "\n",
        "import csv\n",
        "with open(\"sales.csv\", 'a')  as sales:\n",
        "   writer = csv.writer(sales)\n",
        "   writer.writerow(input_data)\n"
      ],
      "metadata": {
        "colab": {
          "base_uri": "https://localhost:8080/"
        },
        "id": "EdYB4tvSJJKq",
        "outputId": "1d003e69-335b-4dd5-e846-ee1b545ce7b6"
      },
      "execution_count": 39,
      "outputs": [
        {
          "name": "stdout",
          "output_type": "stream",
          "text": [
            "Please enter name: d\n",
            "Please enter salary: 2000\n",
            "Please enter sales: 4000\n",
            "Please enter commission rate: 1\n"
          ]
        }
      ]
    },
    {
      "cell_type": "markdown",
      "source": [
        "## Modify the *payslip* program to \n",
        "* read the user data from the csv file to compute the pay\n",
        "* use the calculate_pay function"
      ],
      "metadata": {
        "id": "gujP9kJROgRw"
      }
    },
    {
      "cell_type": "markdown",
      "source": [],
      "metadata": {
        "id": "ZuRpxa_IIWcW"
      }
    },
    {
      "cell_type": "code",
      "source": [
        "import csv\n",
        "\n",
        "def calculate_pay(salary, sales, comm):\n",
        "  commission = (comm/100) * sales\n",
        "  tax = (salary + commission) * 0.10\n",
        "  pay = salary + commission - tax\n",
        "  return commission, tax, pay\n",
        "with open('sales.csv', 'r') as sales:\n",
        " reader = csv.reader(sales)\n",
        " next(reader) # Skip header row\n",
        " for record in reader:\n",
        "      name, salary, sales, comm_rate = record\n",
        "      salary = int(salary)\n",
        "      sales = int(sales)\n",
        "      comm_rate = float(comm_rate)\n",
        "\n",
        "      # Calculate pay using the calculate_pay function\n",
        "      comm_result, tax_result, pay_result = calculate_pay(salary, sales, comm_rate)\n",
        "\n",
        "      # Output payslip\n",
        "      print(f'\\n=== Payslip of {name} ===')\n",
        "      print(f\"Salary: {salary:9} \\nCommission: {comm_result:2} \\nTax: {tax_result:13} \\nTotal pay: {pay_result:8}\")\n"
      ],
      "metadata": {
        "colab": {
          "base_uri": "https://localhost:8080/"
        },
        "id": "xHum8WNcYWzm",
        "outputId": "20e2ae6f-af23-4861-c0b4-edb199ad9287"
      },
      "execution_count": 40,
      "outputs": [
        {
          "output_type": "stream",
          "name": "stdout",
          "text": [
            "\n",
            "=== Payslip of d ===\n",
            "Salary:      1000 \n",
            "Commission: 20.0 \n",
            "Tax:         102.0 \n",
            "Total pay:    918.0\n",
            "\n",
            "=== Payslip of d ===\n",
            "Salary:        10 \n",
            "Commission: 0.2 \n",
            "Tax:          1.02 \n",
            "Total pay:     9.18\n",
            "\n",
            "=== Payslip of peter ===\n",
            "Salary:      2000 \n",
            "Commission: 30.0 \n",
            "Tax:         203.0 \n",
            "Total pay:   1827.0\n",
            "\n",
            "=== Payslip of melo ===\n",
            "Salary:      3000 \n",
            "Commission: 40.0 \n",
            "Tax:         304.0 \n",
            "Total pay:   2736.0\n",
            "\n",
            "=== Payslip of d ===\n",
            "Salary:      2000 \n",
            "Commission: 40.0 \n",
            "Tax:         204.0 \n",
            "Total pay:   1836.0\n"
          ]
        }
      ]
    },
    {
      "cell_type": "code",
      "source": [
        "#Explore combination input and read csv file\n",
        "import csv\n",
        "\n",
        "def calculate_pay(salary, sales, comm):\n",
        "  commission = (comm/100) * sales\n",
        "  tax = (salary + commission) * 0.10\n",
        "  pay = salary + commission - tax\n",
        "  return commission, tax, pay\n",
        "try:\n",
        "  name = input(\"Please enter name: \")\n",
        "  salary = int(input(\"Please enter salary: \"))\n",
        "  sales = int(input(\"Please enter sales: \"))\n",
        "  comm_rate = float(input(\"Please enter commission rate: \"))\n",
        "except ValueError:\n",
        "  print('Please enter a whole number')\n",
        "except:\n",
        "  print(\"Invalid input. Input error. Please check your input and try again\")\n",
        "\n",
        "input_data=[name, salary, sales, comm_rate]\n",
        "\n",
        "import csv\n",
        "with open(\"sales.csv\", 'a')  as sales:\n",
        " writer = csv.writer(sales)\n",
        " writer.writerow(input_data)\n",
        "  # Read user data from CSV file\n",
        "with open('sales.csv', 'r') as sales:\n",
        " reader = csv.reader(sales)\n",
        " next(reader) # Skip header row\n",
        " for record in reader:\n",
        "      name, salary, sales, comm_rate = record\n",
        "      salary = int(salary)\n",
        "      sales = int(sales)\n",
        "      comm_rate = float(comm_rate)\n",
        "\n",
        "      # Calculate pay using the calculate_pay function\n",
        "      comm_result, tax_result, pay_result = calculate_pay(salary, sales, comm_rate)\n",
        "\n",
        "      # Output payslip\n",
        "      print(f'\\n2=== Payslip of {name} ===')\n",
        "      print(f\"Salary: {salary:9} \\nCommission: {comm_result:2} \\nTax: {tax_result:13} \\nTotal pay: {pay_result:8}\")\n",
        "\n"
      ],
      "metadata": {
        "colab": {
          "base_uri": "https://localhost:8080/"
        },
        "id": "g-nJ1BA9UbpV",
        "outputId": "5a8d4e04-887e-4868-e275-b558bb2729f7"
      },
      "execution_count": 41,
      "outputs": [
        {
          "output_type": "stream",
          "name": "stdout",
          "text": [
            "Please enter name: d\n",
            "Please enter salary: 3000\n",
            "Please enter sales: 5000\n",
            "Please enter commission rate: 1\n",
            "\n",
            "2=== Payslip of d ===\n",
            "Salary:      1000 \n",
            "Commission: 20.0 \n",
            "Tax:         102.0 \n",
            "Total pay:    918.0\n",
            "\n",
            "2=== Payslip of d ===\n",
            "Salary:        10 \n",
            "Commission: 0.2 \n",
            "Tax:          1.02 \n",
            "Total pay:     9.18\n",
            "\n",
            "2=== Payslip of peter ===\n",
            "Salary:      2000 \n",
            "Commission: 30.0 \n",
            "Tax:         203.0 \n",
            "Total pay:   1827.0\n",
            "\n",
            "2=== Payslip of melo ===\n",
            "Salary:      3000 \n",
            "Commission: 40.0 \n",
            "Tax:         304.0 \n",
            "Total pay:   2736.0\n",
            "\n",
            "2=== Payslip of d ===\n",
            "Salary:      2000 \n",
            "Commission: 40.0 \n",
            "Tax:         204.0 \n",
            "Total pay:   1836.0\n",
            "\n",
            "2=== Payslip of d ===\n",
            "Salary:      3000 \n",
            "Commission: 50.0 \n",
            "Tax:         305.0 \n",
            "Total pay:   2745.0\n"
          ]
        }
      ]
    }
  ],
  "metadata": {
    "colab": {
      "provenance": [],
      "include_colab_link": true
    },
    "kernelspec": {
      "display_name": "Python 3",
      "language": "python",
      "name": "python3"
    },
    "language_info": {
      "codemirror_mode": {
        "name": "ipython",
        "version": 3
      },
      "file_extension": ".py",
      "mimetype": "text/x-python",
      "name": "python",
      "nbconvert_exporter": "python",
      "pygments_lexer": "ipython3",
      "version": "3.8.8"
    }
  },
  "nbformat": 4,
  "nbformat_minor": 0
}