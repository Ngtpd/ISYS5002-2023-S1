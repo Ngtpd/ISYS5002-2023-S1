{
  "nbformat": 4,
  "nbformat_minor": 0,
  "metadata": {
    "colab": {
      "provenance": [],
      "include_colab_link": true
    },
    "kernelspec": {
      "name": "python3",
      "display_name": "Python 3"
    },
    "language_info": {
      "name": "python"
    }
  },
  "cells": [
    {
      "cell_type": "markdown",
      "metadata": {
        "id": "view-in-github",
        "colab_type": "text"
      },
      "source": [
        "<a href=\"https://colab.research.google.com/github/Ngtpd/ISYS5002-2023-S1/blob/main/6_4_Practice_miles_to_km_converter.ipynb\" target=\"_parent\"><img src=\"https://colab.research.google.com/assets/colab-badge.svg\" alt=\"Open In Colab\"/></a>"
      ]
    },
    {
      "cell_type": "markdown",
      "source": [
        "## Problem Statement:\n",
        "\n",
        "### Simple version\n",
        "The run tracker program is designed to help users keep track of their runs. Users can enter the date, distance in miles, and time in minutes for each run they complete. The program then automatically converts the distance in miles to kilometers and calculates the speed in kilometers per hour using the conversion formula 1 mile = 1.60934 kilometers. The speed calculates as distance/time.\n",
        "\n",
        "### Extended version:\n",
        "The run tracker program is designed to help users keep track of their runs. Users can enter the date, distance in miles, and time in minutes for each run they complete. The program then automatically converts the distance in miles to kilometers and calculates the speed in kilometers per hour using the conversion formula 1 mile = 1.60934 kilometers. The information, including all input values and the calculated speed, is then saved to a CSV file named 'run.csv' for later analysis or tracking.\n",
        "\n",
        "The program is user-friendly and interactive. It prompts the user to enter the required information and provides clear feedback, including a confirmation message with the values entered by the user and the calculated speed. The program also allows the user to decide whether to continue entering more runs or terminate the program.\n",
        "\n",
        "Overall, the run tracker program is a useful tool for individuals who want to monitor their running progress over time and make data-driven decisions about their training."
      ],
      "metadata": {
        "id": "x9jojthsPxBn"
      }
    },
    {
      "cell_type": "markdown",
      "source": [
        "Following the **six-steps problem solving methodology**,<br>\n",
        "**Design and implement** the solution following good programming practices, such as modularising code, validating inputs, handling errors properly, and adhering to the PEP8 style guide.\n",
        "\n",
        "Adhering to PEP8 standards including:\n",
        "* the programming style naming conventions used in the PEP8, which include:\n",
        "* Meaningful names for project, variable, methods, and controls.\n",
        "* Correct capatlisation of variables and methods\n",
        "* Appropriate use of comments\n",
        "* Reference any relevant forums, websites, videos that you used.\n",
        "* Use of space and indentation to program is easy to read."
      ],
      "metadata": {
        "id": "NMyr0sRXzj4D"
      }
    },
    {
      "cell_type": "markdown",
      "source": [
        "Sample input/output:\n",
        "\n",
        "```\n",
        "Enter distance in miles: 10.5\n",
        "10.5 miles is equal to 16.898104 kilometers.\n",
        "\n",
        "Enter distance in miles: 0\n",
        "0.0 miles is equal to 0.0 kilometers.\n",
        "\n",
        "Enter distance in miles: -5\n",
        "Error: Distance cannot be negative.\n",
        "\n",
        "Enter distance in miles: abc\n",
        "Error: Invalid input. Distance must be a number.\n",
        "```\n",
        "\n"
      ],
      "metadata": {
        "id": "81iAFJucQEvQ"
      }
    },
    {
      "cell_type": "code",
      "source": [
        "#enter date\n",
        "date=input(\"enter the date of run (DD/MM/YYYY): \")"
      ],
      "metadata": {
        "colab": {
          "base_uri": "https://localhost:8080/"
        },
        "id": "KICywytSFCER",
        "outputId": "663e8445-1e17-4746-9666-e8e40189d48d"
      },
      "execution_count": null,
      "outputs": [
        {
          "name": "stdout",
          "output_type": "stream",
          "text": [
            "enter the date of run (DD/MM/YYYY): 06/04/2023\n"
          ]
        }
      ]
    },
    {
      "cell_type": "code",
      "source": [
        "distance_miles=float(input(\"enter the distnace in miles: \"))"
      ],
      "metadata": {
        "colab": {
          "base_uri": "https://localhost:8080/"
        },
        "id": "jCLOgj0UFkRQ",
        "outputId": "5ebe0f38-fc26-4b66-ab15-6b7fc53ed0c5"
      },
      "execution_count": null,
      "outputs": [
        {
          "name": "stdout",
          "output_type": "stream",
          "text": [
            "enter the distnace in miles: 10\n"
          ]
        }
      ]
    },
    {
      "cell_type": "code",
      "source": [
        "distance_km=distance_miles*1.60934 "
      ],
      "metadata": {
        "id": "xyttl3PzFCAZ"
      },
      "execution_count": null,
      "outputs": []
    },
    {
      "cell_type": "code",
      "source": [
        "time_minutes=float(input(\"enter the time in minutes: \"))"
      ],
      "metadata": {
        "colab": {
          "base_uri": "https://localhost:8080/"
        },
        "id": "4kIDAt5XFB9B",
        "outputId": "ae224000-7ba1-4c80-da40-4df382511fa9"
      },
      "execution_count": null,
      "outputs": [
        {
          "name": "stdout",
          "output_type": "stream",
          "text": [
            "enter the time in minutes: 60\n"
          ]
        }
      ]
    },
    {
      "cell_type": "code",
      "source": [
        "time_hours=time_minutes/60"
      ],
      "metadata": {
        "id": "AbSwMuauFB5R"
      },
      "execution_count": null,
      "outputs": []
    },
    {
      "cell_type": "code",
      "source": [
        "speed=distance_km/time_hours"
      ],
      "metadata": {
        "id": "rW2SpeuVFB15"
      },
      "execution_count": null,
      "outputs": []
    },
    {
      "cell_type": "code",
      "source": [
        "print(\"date:\",date)"
      ],
      "metadata": {
        "colab": {
          "base_uri": "https://localhost:8080/"
        },
        "id": "pfyQxeZMFBys",
        "outputId": "e9be8d89-b5ad-4a29-f27e-7232b83ea7c0"
      },
      "execution_count": null,
      "outputs": [
        {
          "output_type": "stream",
          "name": "stdout",
          "text": [
            "date: 06/04/2023\n"
          ]
        }
      ]
    },
    {
      "cell_type": "code",
      "source": [
        "print(\"distance:\",distance_km, \"km\")"
      ],
      "metadata": {
        "colab": {
          "base_uri": "https://localhost:8080/"
        },
        "id": "vzakay4CFBvT",
        "outputId": "69320788-b1aa-4365-84d2-eb0c5fd204ef"
      },
      "execution_count": null,
      "outputs": [
        {
          "output_type": "stream",
          "name": "stdout",
          "text": [
            "distance: 16.0934 km\n"
          ]
        }
      ]
    },
    {
      "cell_type": "code",
      "source": [
        "print(\"time: \",time_hours,\" h\")"
      ],
      "metadata": {
        "colab": {
          "base_uri": "https://localhost:8080/"
        },
        "id": "7E-DuqWlFBop",
        "outputId": "d4b89c85-e8d5-4c01-9bde-95662f5a4b13"
      },
      "execution_count": null,
      "outputs": [
        {
          "output_type": "stream",
          "name": "stdout",
          "text": [
            "time:  1.0  h\n"
          ]
        }
      ]
    },
    {
      "cell_type": "code",
      "source": [
        "print(\"speed: \",speed,\"km/h\")"
      ],
      "metadata": {
        "colab": {
          "base_uri": "https://localhost:8080/"
        },
        "id": "F20CkkreE-Np",
        "outputId": "276cb648-7a0e-4a6d-f57f-9e87977b28bf"
      },
      "execution_count": null,
      "outputs": [
        {
          "output_type": "stream",
          "name": "stdout",
          "text": [
            "speed:  16.0934 km/h\n"
          ]
        }
      ]
    },
    {
      "cell_type": "markdown",
      "source": [
        "Design:\n",
        "```\n",
        "1. Step 1: identify the requirement:\n",
        "2. Step 2: input and output\n",
        "3. Step 3: Work an example of the problem\n",
        "Step 4: Algo/pseudocode\n",
        "Step 5: Algo/pseudoce implemented as Python code\n",
        "```"
      ],
      "metadata": {
        "id": "gyJBW56p88Oc"
      }
    },
    {
      "cell_type": "markdown",
      "source": [
        "Step 1: identify the requirement:\n",
        "\n",
        "The problem is to create a Python program that allows users to track their runs by entering the date, distance in miles, and time in minutes for each run. The program should automatically convert the distance in miles to kilometers and calculate the speed in kilometers per hour using the conversion formula 1 mile = 1.60934 kilometers. The program should save this information, including all input values and the calculated speed, to a CSV file named 'run.csv' for later analysis or tracking. The program should be user-friendly and interactive, with clear feedback and the option to continue entering runs or terminate the program. The code should follow good programming practices such as modularizing the code, validating inputs, handling errors properly, and adhering to the PEP8 style guide.\n"
      ],
      "metadata": {
        "id": "sUZ45waRe_3o"
      }
    },
    {
      "cell_type": "markdown",
      "source": [
        "Step 2: input and output\n",
        "\n",
        "Input:\n",
        "*   Date (in the format of YYYY-MM-DD)\n",
        "*   Distance (in miles)\n",
        "*   Time (in minutes)\n",
        "\n",
        "Output:\n",
        "*   Converted distance (in kilometers)\n",
        "*   Speed (in kilometers per hour)\n",
        "*   Confirmation message with the entered values and calculated speed\n",
        "*   Saved data in a CSV file named 'run.csv' with headers (Date, Distance_km, Time_minutes, Speed_kph)\n"
      ],
      "metadata": {
        "id": "SJL1jBZpfIXO"
      }
    },
    {
      "cell_type": "markdown",
      "source": [
        "Step 3: Work an example of the problem\n",
        "```\n",
        "Enter distance in miles: 10.5\n",
        "Enter time in minutes: 20\n",
        "10.5 miles is equal to 16.898104 kilometers.\n",
        "\n",
        "Enter distance in miles: 0\n",
        "0.0 miles is equal to 0.0 kilometers.\n",
        "\n",
        "Enter distance in miles: -5\n",
        "Error: Distance cannot be negative.\n",
        "\n",
        "Enter distance in miles: abc\n",
        "Error: Invalid input. Distance must be a number.\n",
        "```\n"
      ],
      "metadata": {
        "id": "xKxPhTL_jkcd"
      }
    },
    {
      "cell_type": "markdown",
      "source": [
        "Step 4: Algo/pseudocode\n",
        "\n",
        "```\n",
        "- Prompt the user to enter the date, distance, and time for their run.\n",
        "- Validate the user's inputs to ensure that the distance and time are numeric and that the distance is not negative.\n",
        "- If the user's inputs are valid, convert the distance to kilometers and calculate the speed in kilometers per hour.\n",
        "- Display the converted distance and calculated speed to the user.\n",
        "- Save the run data to the CSV file named 'run.csv' using the date, distance (in miles and kilometers), time, and speed.\n",
        "- Ask the user if they want to continue entering data or terminate the program.\n",
        "- If the user wants to continue entering data, go back to step 1.\n",
        "- If the user wants to terminate the program, end the program.\n",
        "```"
      ],
      "metadata": {
        "id": "PNtiYWdQkry8"
      }
    },
    {
      "cell_type": "markdown",
      "source": [
        "Step 5: Algo/pseudocode implemented as Python code"
      ],
      "metadata": {
        "id": "EZI3AFLcmSK5"
      }
    },
    {
      "cell_type": "code",
      "source": [
        "    # Get user input\n",
        "date = input(\"Enter date (DD/MM/YYYY): \")\n",
        "distance_miles=float(input('enter the distance of run in miles: '))\n",
        "time_minutes=float(input('enter the time of run in minutes: '))\n",
        "\n",
        "    # Convert distance to kilometers and calculate speed in kilometers per hour\n",
        "distance_km=distance_miles*1.60934\n",
        "time_hours=time_minutes/60\n",
        "speed=distance_km/time_hours\n",
        "\n",
        "    # Display the results to the user\n",
        "print(f\"{distance} miles is equal to {distance_km:.6f} kilometers.\")\n",
        "print(f\"Your speed is {speed:.2f} kilometers per hour.\")\n"
      ],
      "metadata": {
        "colab": {
          "base_uri": "https://localhost:8080/"
        },
        "id": "_wsU8Lx3mxlX",
        "outputId": "e536351c-805c-4635-dc9f-0b54d8f12762"
      },
      "execution_count": 15,
      "outputs": [
        {
          "output_type": "stream",
          "name": "stdout",
          "text": [
            "Enter date (DD/MM/YYYY): 07/04/2023\n",
            "enter the distance of run in miles: 30\n",
            "enter the time of run in minutes: 20\n",
            "30.0 miles is equal to 48.280200 kilometers.\n",
            "Your speed is 144.84 kilometers per hour.\n"
          ]
        }
      ]
    },
    {
      "cell_type": "code",
      "source": [
        "#1. Step 1: identify the requirement with 1 mile = 1.60934 kilometers \n",
        "miles_to_km=1.60934 \n",
        "#speed calculation formula speed = distance / time\n",
        "date=input('enter the date of run (DD/MM/YYYY): ')\n",
        "distance_miles=float(input('enter the distance of run in miles: '))\n",
        "time_minutes=float(input('enter the time of run in minutes: '))\n",
        "#convert miles to km\n",
        "distance_km=distance_miles*miles_to_km\n",
        "#conver minutes to hours\n",
        "time_hours=time_minutes/60\n",
        "speed=distance_km/time_hours\n",
        "#print the results\n",
        "print(\"Date: \",date)\n",
        "print(\"Distance: \",distance_km,\" km\")\n",
        "print(\"Time: \",time_hours,\" h\")\n",
        "print(\"Speed: \",speed,\" km/h\")\n"
      ],
      "metadata": {
        "id": "SikFWznPRJuF",
        "colab": {
          "base_uri": "https://localhost:8080/"
        },
        "outputId": "eaec6471-6201-4d9d-83a8-d71af6e12aca"
      },
      "execution_count": null,
      "outputs": [
        {
          "output_type": "stream",
          "name": "stdout",
          "text": [
            "enter the date of run (DD/MM/YYYY): 06/04/2023\n",
            "enter the distance of run in miles: 10\n",
            "enter the time of run in minutes: 60\n",
            "Date:  06/04/2023\n",
            "Distance:  16.0934  km\n",
            "Time:  1.0  h\n",
            "Speed:  16.0934  km/h\n"
          ]
        }
      ]
    },
    {
      "cell_type": "markdown",
      "source": [
        "### Test your program with some valid and invalid cases"
      ],
      "metadata": {
        "id": "Sdy8NRHrWJ0u"
      }
    },
    {
      "cell_type": "code",
      "source": [
        "date = input(\"Enter date (DD/MM/YYYY): \")\n",
        "distance_miles=float(input('enter the distance of run in miles: '))\n",
        "time_minutes=float(input('enter the time of run in minutes: '))\n",
        "\n",
        "    # Convert distance to kilometers and calculate speed in kilometers per hour\n",
        "distance_km=distance_miles*1.60934\n",
        "time_hours=time_minutes/60\n",
        "speed=distance_km/time_hours\n",
        "\n",
        "    # Display the results to the user\n",
        "print(f\"{distance} miles is equal to {distance_km:.6f} kilometers.\")\n",
        "print(f\"Your speed is {speed:.2f} kilometers per hour.\")"
      ],
      "metadata": {
        "colab": {
          "base_uri": "https://localhost:8080/"
        },
        "id": "UetoDjIqpJpr",
        "outputId": "a43012fc-60fc-485f-bde9-24d4a4a2361c"
      },
      "execution_count": 16,
      "outputs": [
        {
          "output_type": "stream",
          "name": "stdout",
          "text": [
            "Enter date (DD/MM/YYYY): 07/04/2023\n",
            "enter the distance of run in miles: -10\n",
            "enter the time of run in minutes: 10\n",
            "30.0 miles is equal to -16.093400 kilometers.\n",
            "Your speed is -96.56 kilometers per hour.\n"
          ]
        }
      ]
    },
    {
      "cell_type": "markdown",
      "source": [
        "### Optional: Modify the program so it print results and write results to a file."
      ],
      "metadata": {
        "id": "vw_BIIeeNsCl"
      }
    },
    {
      "cell_type": "code",
      "source": [
        "import csv\n",
        "\n",
        "def miles_to_kilometers(distance):\n",
        "    \"\"\"Convert miles to kilometers using the conversion factor 1 mile = 1.60934 kilometers.\"\"\"\n",
        "    return distance * 1.60934\n",
        "\n",
        "def get_valid_distance():\n",
        "    \"\"\"Prompt the user to enter a valid distance in miles and return it as a float.\"\"\"\n",
        "    while True:\n",
        "        distance_str = input(\"Enter distance in miles: \")\n",
        "        try:\n",
        "            distance = float(distance_str)\n",
        "            if distance < 0:\n",
        "                print(\"Error: Distance cannot be negative.\")\n",
        "            else:\n",
        "                return distance\n",
        "        except ValueError:\n",
        "            print(\"Error: Invalid input. Distance must be a number.\")\n",
        "\n",
        "def get_valid_time():\n",
        "    \"\"\"Prompt the user to enter a valid time in minutes and return it as an integer.\"\"\"\n",
        "    while True:\n",
        "        time_str = input(\"Enter time in minutes: \")\n",
        "        try:\n",
        "            time = int(time_str)\n",
        "            if time < 0:\n",
        "                print(\"Error: Time cannot be negative.\")\n",
        "            else:\n",
        "                return time\n",
        "        except ValueError:\n",
        "            print(\"Error: Invalid input. Time must be an integer.\")\n",
        "\n",
        "def save_run_to_csv(date, distance_miles, distance_km, time, speed):\n",
        "    \"\"\"Save the run data to the CSV file named 'run.csv'.\"\"\"\n",
        "    with open('run.csv', mode='a', newline='') as run_file:\n",
        "        run_writer = csv.writer(run_file)\n",
        "        run_writer.writerow([date, distance_miles, distance_km, time, speed])\n",
        "        run_writer.writerow(['date', 'distance_miles', 'distance_km', 'time', 'speed'])\n",
        "while True:\n",
        "    # Get user input\n",
        "    date = input(\"Enter date (DD/MM/YYYY): \")\n",
        "    distance = get_valid_distance()\n",
        "    time = get_valid_time()\n",
        "\n",
        "    # Convert distance to kilometers and calculate speed in kilometers per hour\n",
        "    distance_km = miles_to_kilometers(distance)\n",
        "    speed = distance_km / (time / 60)\n",
        "\n",
        "    # Display the results to the user\n",
        "    print(f\"{distance} miles is equal to {distance_km:.6f} kilometers.\")\n",
        "    print(f\"Your speed is {speed:.2f} kilometers per hour.\")\n",
        "\n",
        "    # Save the data to the CSV file\n",
        "    save_run_to_csv(date, distance, distance_km, time, speed)\n",
        "\n",
        "    # Ask the user if they want to continue\n",
        "    choice = input(\"Do you want to enter another run? (y/n): \")\n",
        "    if choice.lower() == 'n':\n",
        "        break\n",
        "\n",
        "print(\"Program terminated.\")"
      ],
      "metadata": {
        "colab": {
          "base_uri": "https://localhost:8080/"
        },
        "id": "_IAAUXAMsud4",
        "outputId": "5c59371f-2e46-4048-b117-e5df4621a364"
      },
      "execution_count": 47,
      "outputs": [
        {
          "output_type": "stream",
          "name": "stdout",
          "text": [
            "Enter date (DD/MM/YYYY): 06/04/2023\n",
            "Enter distance in miles: 40\n",
            "Enter time in minutes: 30\n",
            "40.0 miles is equal to 64.373600 kilometers.\n",
            "Your speed is 128.75 kilometers per hour.\n",
            "Do you want to enter another run? (y/n): n\n",
            "Program terminated.\n"
          ]
        }
      ]
    },
    {
      "cell_type": "markdown",
      "source": [
        "### Optional: Plot a graph to visualise the result\n",
        "\n",
        "\n"
      ],
      "metadata": {
        "id": "NmDIwHQ3T_bU"
      }
    },
    {
      "cell_type": "code",
      "source": [
        "import csv\n",
        "\n",
        "#open file and write records\n",
        "with open(\"run.csv\", 'r')  as data:\n",
        "  reader = csv.reader(data)\n",
        "  print(next(reader))\n",
        "  print(next(reader))\n",
        "  print(next(reader))\n",
        "  print(next(reader))\n",
        "  print(next(reader))"
      ],
      "metadata": {
        "colab": {
          "base_uri": "https://localhost:8080/"
        },
        "id": "zkioHlF2yWcq",
        "outputId": "ef3d5d06-4bae-4d88-9b73-3ea96583217b"
      },
      "execution_count": 42,
      "outputs": [
        {
          "output_type": "stream",
          "name": "stdout",
          "text": [
            "['2023/04/09', '30.0', '48.2802', '30', '96.5604']\n",
            "['2023/04/08', '32.0', '51.49888', '35', '88.28379428571428']\n",
            "['2023/04/08', '33.0', '53.10822', '45', '70.81096000000001']\n",
            "['2023/04/08', '10.5', '16.89807', '20', '50.694210000000005']\n",
            "['2023/04/10', '3.5', '5.63269', '30', '11.26538']\n"
          ]
        }
      ]
    },
    {
      "cell_type": "code",
      "source": [
        "#import pandas module\n",
        "import pandas as pd\n",
        "from matplotlib import pyplot as plt\n",
        "\n",
        "# Load the data\n",
        "df = pd.read_csv('run.csv')  #caption \"df\" before pd.read_csv()\n",
        "\n",
        "df.plot(x=\"date\", y='speed', figsize=(10, 6))\n",
        "plt.title(\"Sales Revenue For Feb 2022\")\n",
        "plt.xlabel(\"Date\")\n",
        "plt.ylabel('Sales Revenue')\n",
        "plt.show()"
      ],
      "metadata": {
        "colab": {
          "base_uri": "https://localhost:8080/",
          "height": 502
        },
        "id": "GlRcY7V-y4HT",
        "outputId": "4c57e167-18ab-4893-a150-8c59d64171da"
      },
      "execution_count": 52,
      "outputs": [
        {
          "output_type": "error",
          "ename": "KeyError",
          "evalue": "ignored",
          "traceback": [
            "\u001b[0;31m---------------------------------------------------------------------------\u001b[0m",
            "\u001b[0;31mKeyError\u001b[0m                                  Traceback (most recent call last)",
            "\u001b[0;32m/usr/local/lib/python3.9/dist-packages/pandas/core/indexes/base.py\u001b[0m in \u001b[0;36mget_loc\u001b[0;34m(self, key, method, tolerance)\u001b[0m\n\u001b[1;32m   3628\u001b[0m             \u001b[0;32mtry\u001b[0m\u001b[0;34m:\u001b[0m\u001b[0;34m\u001b[0m\u001b[0;34m\u001b[0m\u001b[0m\n\u001b[0;32m-> 3629\u001b[0;31m                 \u001b[0;32mreturn\u001b[0m \u001b[0mself\u001b[0m\u001b[0;34m.\u001b[0m\u001b[0m_engine\u001b[0m\u001b[0;34m.\u001b[0m\u001b[0mget_loc\u001b[0m\u001b[0;34m(\u001b[0m\u001b[0mcasted_key\u001b[0m\u001b[0;34m)\u001b[0m\u001b[0;34m\u001b[0m\u001b[0;34m\u001b[0m\u001b[0m\n\u001b[0m\u001b[1;32m   3630\u001b[0m             \u001b[0;32mexcept\u001b[0m \u001b[0mKeyError\u001b[0m \u001b[0;32mas\u001b[0m \u001b[0merr\u001b[0m\u001b[0;34m:\u001b[0m\u001b[0;34m\u001b[0m\u001b[0;34m\u001b[0m\u001b[0m\n",
            "\u001b[0;32m/usr/local/lib/python3.9/dist-packages/pandas/_libs/index.pyx\u001b[0m in \u001b[0;36mpandas._libs.index.IndexEngine.get_loc\u001b[0;34m()\u001b[0m\n",
            "\u001b[0;32m/usr/local/lib/python3.9/dist-packages/pandas/_libs/index.pyx\u001b[0m in \u001b[0;36mpandas._libs.index.IndexEngine.get_loc\u001b[0;34m()\u001b[0m\n",
            "\u001b[0;32mpandas/_libs/hashtable_class_helper.pxi\u001b[0m in \u001b[0;36mpandas._libs.hashtable.PyObjectHashTable.get_item\u001b[0;34m()\u001b[0m\n",
            "\u001b[0;32mpandas/_libs/hashtable_class_helper.pxi\u001b[0m in \u001b[0;36mpandas._libs.hashtable.PyObjectHashTable.get_item\u001b[0;34m()\u001b[0m\n",
            "\u001b[0;31mKeyError\u001b[0m: 'date'",
            "\nThe above exception was the direct cause of the following exception:\n",
            "\u001b[0;31mKeyError\u001b[0m                                  Traceback (most recent call last)",
            "\u001b[0;32m<ipython-input-52-7e3fc2d343b8>\u001b[0m in \u001b[0;36m<cell line: 8>\u001b[0;34m()\u001b[0m\n\u001b[1;32m      6\u001b[0m \u001b[0mdf\u001b[0m \u001b[0;34m=\u001b[0m \u001b[0mpd\u001b[0m\u001b[0;34m.\u001b[0m\u001b[0mread_csv\u001b[0m\u001b[0;34m(\u001b[0m\u001b[0;34m'run.csv'\u001b[0m\u001b[0;34m)\u001b[0m  \u001b[0;31m#caption \"df\" before pd.read_csv()\u001b[0m\u001b[0;34m\u001b[0m\u001b[0;34m\u001b[0m\u001b[0m\n\u001b[1;32m      7\u001b[0m \u001b[0;34m\u001b[0m\u001b[0m\n\u001b[0;32m----> 8\u001b[0;31m \u001b[0mdf\u001b[0m\u001b[0;34m.\u001b[0m\u001b[0mplot\u001b[0m\u001b[0;34m(\u001b[0m\u001b[0mx\u001b[0m\u001b[0;34m=\u001b[0m\u001b[0;34m\"date\"\u001b[0m\u001b[0;34m,\u001b[0m \u001b[0my\u001b[0m\u001b[0;34m=\u001b[0m\u001b[0;34m'speed'\u001b[0m\u001b[0;34m,\u001b[0m \u001b[0mfigsize\u001b[0m\u001b[0;34m=\u001b[0m\u001b[0;34m(\u001b[0m\u001b[0;36m10\u001b[0m\u001b[0;34m,\u001b[0m \u001b[0;36m6\u001b[0m\u001b[0;34m)\u001b[0m\u001b[0;34m)\u001b[0m\u001b[0;34m\u001b[0m\u001b[0;34m\u001b[0m\u001b[0m\n\u001b[0m\u001b[1;32m      9\u001b[0m \u001b[0mplt\u001b[0m\u001b[0;34m.\u001b[0m\u001b[0mtitle\u001b[0m\u001b[0;34m(\u001b[0m\u001b[0;34m\"Sales Revenue For Feb 2022\"\u001b[0m\u001b[0;34m)\u001b[0m\u001b[0;34m\u001b[0m\u001b[0;34m\u001b[0m\u001b[0m\n\u001b[1;32m     10\u001b[0m \u001b[0mplt\u001b[0m\u001b[0;34m.\u001b[0m\u001b[0mxlabel\u001b[0m\u001b[0;34m(\u001b[0m\u001b[0;34m\"Date\"\u001b[0m\u001b[0;34m)\u001b[0m\u001b[0;34m\u001b[0m\u001b[0;34m\u001b[0m\u001b[0m\n",
            "\u001b[0;32m/usr/local/lib/python3.9/dist-packages/pandas/plotting/_core.py\u001b[0m in \u001b[0;36m__call__\u001b[0;34m(self, *args, **kwargs)\u001b[0m\n\u001b[1;32m    935\u001b[0m                 \u001b[0;32mif\u001b[0m \u001b[0mis_integer\u001b[0m\u001b[0;34m(\u001b[0m\u001b[0mx\u001b[0m\u001b[0;34m)\u001b[0m \u001b[0;32mand\u001b[0m \u001b[0;32mnot\u001b[0m \u001b[0mdata\u001b[0m\u001b[0;34m.\u001b[0m\u001b[0mcolumns\u001b[0m\u001b[0;34m.\u001b[0m\u001b[0mholds_integer\u001b[0m\u001b[0;34m(\u001b[0m\u001b[0;34m)\u001b[0m\u001b[0;34m:\u001b[0m\u001b[0;34m\u001b[0m\u001b[0;34m\u001b[0m\u001b[0m\n\u001b[1;32m    936\u001b[0m                     \u001b[0mx\u001b[0m \u001b[0;34m=\u001b[0m \u001b[0mdata_cols\u001b[0m\u001b[0;34m[\u001b[0m\u001b[0mx\u001b[0m\u001b[0;34m]\u001b[0m\u001b[0;34m\u001b[0m\u001b[0;34m\u001b[0m\u001b[0m\n\u001b[0;32m--> 937\u001b[0;31m                 \u001b[0;32melif\u001b[0m \u001b[0;32mnot\u001b[0m \u001b[0misinstance\u001b[0m\u001b[0;34m(\u001b[0m\u001b[0mdata\u001b[0m\u001b[0;34m[\u001b[0m\u001b[0mx\u001b[0m\u001b[0;34m]\u001b[0m\u001b[0;34m,\u001b[0m \u001b[0mABCSeries\u001b[0m\u001b[0;34m)\u001b[0m\u001b[0;34m:\u001b[0m\u001b[0;34m\u001b[0m\u001b[0;34m\u001b[0m\u001b[0m\n\u001b[0m\u001b[1;32m    938\u001b[0m                     \u001b[0;32mraise\u001b[0m \u001b[0mValueError\u001b[0m\u001b[0;34m(\u001b[0m\u001b[0;34m\"x must be a label or position\"\u001b[0m\u001b[0;34m)\u001b[0m\u001b[0;34m\u001b[0m\u001b[0;34m\u001b[0m\u001b[0m\n\u001b[1;32m    939\u001b[0m                 \u001b[0mdata\u001b[0m \u001b[0;34m=\u001b[0m \u001b[0mdata\u001b[0m\u001b[0;34m.\u001b[0m\u001b[0mset_index\u001b[0m\u001b[0;34m(\u001b[0m\u001b[0mx\u001b[0m\u001b[0;34m)\u001b[0m\u001b[0;34m\u001b[0m\u001b[0;34m\u001b[0m\u001b[0m\n",
            "\u001b[0;32m/usr/local/lib/python3.9/dist-packages/pandas/core/frame.py\u001b[0m in \u001b[0;36m__getitem__\u001b[0;34m(self, key)\u001b[0m\n\u001b[1;32m   3503\u001b[0m             \u001b[0;32mif\u001b[0m \u001b[0mself\u001b[0m\u001b[0;34m.\u001b[0m\u001b[0mcolumns\u001b[0m\u001b[0;34m.\u001b[0m\u001b[0mnlevels\u001b[0m \u001b[0;34m>\u001b[0m \u001b[0;36m1\u001b[0m\u001b[0;34m:\u001b[0m\u001b[0;34m\u001b[0m\u001b[0;34m\u001b[0m\u001b[0m\n\u001b[1;32m   3504\u001b[0m                 \u001b[0;32mreturn\u001b[0m \u001b[0mself\u001b[0m\u001b[0;34m.\u001b[0m\u001b[0m_getitem_multilevel\u001b[0m\u001b[0;34m(\u001b[0m\u001b[0mkey\u001b[0m\u001b[0;34m)\u001b[0m\u001b[0;34m\u001b[0m\u001b[0;34m\u001b[0m\u001b[0m\n\u001b[0;32m-> 3505\u001b[0;31m             \u001b[0mindexer\u001b[0m \u001b[0;34m=\u001b[0m \u001b[0mself\u001b[0m\u001b[0;34m.\u001b[0m\u001b[0mcolumns\u001b[0m\u001b[0;34m.\u001b[0m\u001b[0mget_loc\u001b[0m\u001b[0;34m(\u001b[0m\u001b[0mkey\u001b[0m\u001b[0;34m)\u001b[0m\u001b[0;34m\u001b[0m\u001b[0;34m\u001b[0m\u001b[0m\n\u001b[0m\u001b[1;32m   3506\u001b[0m             \u001b[0;32mif\u001b[0m \u001b[0mis_integer\u001b[0m\u001b[0;34m(\u001b[0m\u001b[0mindexer\u001b[0m\u001b[0;34m)\u001b[0m\u001b[0;34m:\u001b[0m\u001b[0;34m\u001b[0m\u001b[0;34m\u001b[0m\u001b[0m\n\u001b[1;32m   3507\u001b[0m                 \u001b[0mindexer\u001b[0m \u001b[0;34m=\u001b[0m \u001b[0;34m[\u001b[0m\u001b[0mindexer\u001b[0m\u001b[0;34m]\u001b[0m\u001b[0;34m\u001b[0m\u001b[0;34m\u001b[0m\u001b[0m\n",
            "\u001b[0;32m/usr/local/lib/python3.9/dist-packages/pandas/core/indexes/base.py\u001b[0m in \u001b[0;36mget_loc\u001b[0;34m(self, key, method, tolerance)\u001b[0m\n\u001b[1;32m   3629\u001b[0m                 \u001b[0;32mreturn\u001b[0m \u001b[0mself\u001b[0m\u001b[0;34m.\u001b[0m\u001b[0m_engine\u001b[0m\u001b[0;34m.\u001b[0m\u001b[0mget_loc\u001b[0m\u001b[0;34m(\u001b[0m\u001b[0mcasted_key\u001b[0m\u001b[0;34m)\u001b[0m\u001b[0;34m\u001b[0m\u001b[0;34m\u001b[0m\u001b[0m\n\u001b[1;32m   3630\u001b[0m             \u001b[0;32mexcept\u001b[0m \u001b[0mKeyError\u001b[0m \u001b[0;32mas\u001b[0m \u001b[0merr\u001b[0m\u001b[0;34m:\u001b[0m\u001b[0;34m\u001b[0m\u001b[0;34m\u001b[0m\u001b[0m\n\u001b[0;32m-> 3631\u001b[0;31m                 \u001b[0;32mraise\u001b[0m \u001b[0mKeyError\u001b[0m\u001b[0;34m(\u001b[0m\u001b[0mkey\u001b[0m\u001b[0;34m)\u001b[0m \u001b[0;32mfrom\u001b[0m \u001b[0merr\u001b[0m\u001b[0;34m\u001b[0m\u001b[0;34m\u001b[0m\u001b[0m\n\u001b[0m\u001b[1;32m   3632\u001b[0m             \u001b[0;32mexcept\u001b[0m \u001b[0mTypeError\u001b[0m\u001b[0;34m:\u001b[0m\u001b[0;34m\u001b[0m\u001b[0;34m\u001b[0m\u001b[0m\n\u001b[1;32m   3633\u001b[0m                 \u001b[0;31m# If we have a listlike key, _check_indexing_error will raise\u001b[0m\u001b[0;34m\u001b[0m\u001b[0;34m\u001b[0m\u001b[0m\n",
            "\u001b[0;31mKeyError\u001b[0m: 'date'"
          ]
        }
      ]
    },
    {
      "cell_type": "markdown",
      "source": [
        "Design and implement \n",
        "```\n",
        "Design:\n",
        "\n",
        "Step 1: identify the requirement\n",
        "Step 2: input and output\n",
        "Step 3: Work an example of the problem\n",
        "Step 4: alo/pseudocode\n",
        "Show step by step \n",
        "Step 1: .....(code and explaination)\n",
        "Step 2: .....\n",
        " ```"
      ],
      "metadata": {
        "id": "K5IebeqaOeKw"
      }
    },
    {
      "cell_type": "code",
      "source": [],
      "metadata": {
        "id": "FaErVkCzOmQh"
      },
      "execution_count": null,
      "outputs": []
    },
    {
      "cell_type": "code",
      "source": [],
      "metadata": {
        "id": "Lq_gDHjhOlWQ"
      },
      "execution_count": null,
      "outputs": []
    }
  ]
}