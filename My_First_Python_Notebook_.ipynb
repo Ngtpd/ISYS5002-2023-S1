{
  "nbformat": 4,
  "nbformat_minor": 0,
  "metadata": {
    "colab": {
      "provenance": [],
      "authorship_tag": "ABX9TyOlnKGlCK/ovDxVPmDX/90q",
      "include_colab_link": true
    },
    "kernelspec": {
      "name": "python3",
      "display_name": "Python 3"
    },
    "language_info": {
      "name": "python"
    }
  },
  "cells": [
    {
      "cell_type": "markdown",
      "metadata": {
        "id": "view-in-github",
        "colab_type": "text"
      },
      "source": [
        "<a href=\"https://colab.research.google.com/github/Ngtpd/ISYS5002-2023-S1/blob/main/My_First_Python_Notebook_.ipynb\" target=\"_parent\"><img src=\"https://colab.research.google.com/assets/colab-badge.svg\" alt=\"Open In Colab\"/></a>"
      ]
    },
    {
      "cell_type": "markdown",
      "source": [
        "# This is my first python notebook.\n",
        "Im going to the `print` function."
      ],
      "metadata": {
        "id": "P42wNadFtXTi"
      }
    },
    {
      "cell_type": "code",
      "execution_count": 26,
      "metadata": {
        "colab": {
          "base_uri": "https://localhost:8080/"
        },
        "id": "2cudDsQ4qJjV",
        "outputId": "ccf92909-5df4-40aa-82d6-617a2dfcbaf8"
      },
      "outputs": [
        {
          "output_type": "execute_result",
          "data": {
            "text/plain": [
              "2"
            ]
          },
          "metadata": {},
          "execution_count": 26
        }
      ],
      "source": [
        "1+1 # expresion"
      ]
    },
    {
      "cell_type": "code",
      "source": [
        "print(\"Hello World\")\n",
        "print(\"Welcome to Python Program\")"
      ],
      "metadata": {
        "colab": {
          "base_uri": "https://localhost:8080/",
          "height": 0
        },
        "id": "_94Tlu6osxBA",
        "outputId": "874abd49-9563-4b38-eb4c-080c8bc0bbb3"
      },
      "execution_count": 7,
      "outputs": [
        {
          "output_type": "stream",
          "name": "stdout",
          "text": [
            "Hello World\n",
            "Welcome to Python Program\n"
          ]
        }
      ]
    },
    {
      "cell_type": "code",
      "source": [
        "#get the input from the user using the 'input' function\n",
        "#store the user input in a variable called 'name'\n",
        "name = input(\"Please type your name\")"
      ],
      "metadata": {
        "colab": {
          "base_uri": "https://localhost:8080/"
        },
        "outputId": "ba8985fd-8cc7-451a-da11-598c7f4701c9",
        "id": "RFfr0NErwUNW"
      },
      "execution_count": 20,
      "outputs": [
        {
          "name": "stdout",
          "output_type": "stream",
          "text": [
            "Please type your name Darcey\n"
          ]
        }
      ]
    },
    {
      "cell_type": "code",
      "source": [
        "name#check what is stored in the variable 'name'"
      ],
      "metadata": {
        "colab": {
          "base_uri": "https://localhost:8080/",
          "height": 35
        },
        "id": "HZYkLqhBzJNV",
        "outputId": "010be02f-15fb-4cd0-9ca7-fb2de1390597"
      },
      "execution_count": 22,
      "outputs": [
        {
          "output_type": "execute_result",
          "data": {
            "text/plain": [
              "' Darcey'"
            ],
            "application/vnd.google.colaboratory.intrinsic+json": {
              "type": "string"
            }
          },
          "metadata": {},
          "execution_count": 22
        }
      ]
    },
    {
      "cell_type": "code",
      "source": [
        "input(\"Please type your name\")"
      ],
      "metadata": {
        "colab": {
          "base_uri": "https://localhost:8080/",
          "height": 53
        },
        "id": "GisHIdKDw6w3",
        "outputId": "b9c174ca-d178-4f85-e591-d08aab93de37"
      },
      "execution_count": 17,
      "outputs": [
        {
          "name": "stdout",
          "output_type": "stream",
          "text": [
            "Please type your name Darcey\n"
          ]
        },
        {
          "output_type": "execute_result",
          "data": {
            "text/plain": [
              "' Darcey'"
            ],
            "application/vnd.google.colaboratory.intrinsic+json": {
              "type": "string"
            }
          },
          "metadata": {},
          "execution_count": 17
        }
      ]
    },
    {
      "cell_type": "code",
      "source": [
        "print(\"Hello\",name)\n",
        "print(\"Hello\"+ name)"
      ],
      "metadata": {
        "colab": {
          "base_uri": "https://localhost:8080/"
        },
        "id": "HzIIMBbvzvHO",
        "outputId": "a92014db-424a-4eaf-be7c-2e4c52b4b802"
      },
      "execution_count": 25,
      "outputs": [
        {
          "output_type": "stream",
          "name": "stdout",
          "text": [
            "Hello  Darcey\n",
            "Hello Darcey\n"
          ]
        }
      ]
    },
    {
      "cell_type": "code",
      "source": [
        "print(1+1)\n",
        "print('1'+'1')"
      ],
      "metadata": {
        "colab": {
          "base_uri": "https://localhost:8080/"
        },
        "id": "5CVbx616ycQs",
        "outputId": "5b3470b9-8273-4e63-c6fb-a024c4736723"
      },
      "execution_count": 21,
      "outputs": [
        {
          "output_type": "stream",
          "name": "stdout",
          "text": [
            "2\n",
            "11\n"
          ]
        }
      ]
    },
    {
      "cell_type": "markdown",
      "source": [],
      "metadata": {
        "id": "lQKiHvJpycJi"
      }
    }
  ]
}