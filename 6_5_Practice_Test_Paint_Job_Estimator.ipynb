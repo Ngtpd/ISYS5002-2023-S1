{
  "nbformat": 4,
  "nbformat_minor": 0,
  "metadata": {
    "colab": {
      "provenance": [],
      "include_colab_link": true
    },
    "kernelspec": {
      "name": "python3",
      "display_name": "Python 3"
    },
    "language_info": {
      "name": "python"
    }
  },
  "cells": [
    {
      "cell_type": "markdown",
      "metadata": {
        "id": "view-in-github",
        "colab_type": "text"
      },
      "source": [
        "<a href=\"https://colab.research.google.com/github/Ngtpd/ISYS5002-2023-S1/blob/main/6_5_Practice_Test_Paint_Job_Estimator.ipynb\" target=\"_parent\"><img src=\"https://colab.research.google.com/assets/colab-badge.svg\" alt=\"Open In Colab\"/></a>"
      ]
    },
    {
      "cell_type": "markdown",
      "source": [
        "# Paint Job Estimator\n",
        "\n",
        "## Problem Statement\n",
        "\n",
        "A painting company has determined that for every 112 square feet of wall space, one gallon of paint and eight hours of labor will be required. The company charges $35.00 per hour for labor. Write a program that asks the user to enter the square feet of wall space to be painted and the price of the paint per gallon. The program should display the following data:\n",
        "\n",
        "* The number of gallons of paint required\n",
        "* The hours of labor required\n",
        "* The cost of the paint\n",
        "* The labor charges\n",
        "* The total cost of the paint job\n",
        "\n",
        "### Instructions\n",
        "\n",
        "Following the six-steps problem solving methodology, Design and implement the solution following good programming practices, such as modularising code, validating inputs, handling errors properly, and adhering to the PEP8 style guide.\n",
        "\n",
        "Adhering to PEP8 standards:\n",
        "* programming style naming conventions used in the PEP8, which include:\n",
        "  * Meaningful names for project, variable, methods, and controls.\n",
        "  * Correct capitalisation of variables and methods\n",
        "* Appropriate use of comments\n",
        "* Reference any relevant forums, websites, videos that you used.\n",
        "* Use of space and indentation to program is easy to read."
      ],
      "metadata": {
        "id": "v7olaSocMd5C"
      }
    },
    {
      "cell_type": "markdown",
      "source": [
        "### Sample output:\n",
        "\n",
        "\n",
        "\n"
      ],
      "metadata": {
        "id": "XQnEs1LQRn06"
      }
    },
    {
      "cell_type": "markdown",
      "source": [
        "\n",
        "Sample output 1:\n",
        "```\n",
        "Enter the square feet of wall space to be painted: 1800\n",
        "Enter the price of paint per gallon: 18.5\n",
        "\n",
        "Number of gallons of paint required: 16.07\n",
        "Hours of labor required: 128.57\n",
        "Cost of the paint: $297.45\n",
        "Labor charges: $4499.95\n",
        "Total cost of the paint job: $4797.40\n",
        "```\n",
        "\n",
        "Sample output 2:\n",
        "```\n",
        "Enter the square feet of wall space to be painted: 1000\n",
        "Enter the price of paint per gallon: 25.50\n",
        "\n",
        "Number of gallons of paint required: 8.93\n",
        "Hours of labor required: 71.43\n",
        "Cost of the paint: $227.68\n",
        "Labor charges: $2500.00\n",
        "Total cost of the paint job: $2727.68\n",
        "```"
      ],
      "metadata": {
        "id": "RD3HwyY1XCmG"
      }
    },
    {
      "cell_type": "markdown",
      "source": [
        "\n",
        "Step 1: Problem Analysis\n",
        "```\n",
        "The problem requires us to write a program that calculates the number of gallons of paint required, hours of labor required, cost of paint, labor charges, and total cost for a painting job based on the square feet of wall space to be painted and the price of paint per gallon. The program must adhere to the PEP8 style guide, be modularized, and handle errors properly.\n",
        "\n",
        "Inputs:\n",
        "Square feet of wall space to be painted (float)\n",
        "Price of paint per gallon (float)\n",
        "\n",
        "Outputs:\n",
        "\n",
        "Number of gallons of paint required (int)\n",
        "Hours of labor required (int)\n",
        "Cost of paint (float)\n",
        "Labor charges (float)\n",
        "Total cost of paint job (float)\n",
        "\n",
        "Formulae:\n",
        "\n",
        "Gallons of paint required = square feet of wall space to be painted / 112 (rounded up)\n",
        "Hours of labor required = gallons of paint required * 8\n",
        "Cost of paint = gallons of paint required * price of paint per gallon\n",
        "Labor charges = hours of labor required * 35\n",
        "Total cost of paint job = cost of paint + labor charges\n",
        "```"
      ],
      "metadata": {
        "id": "DiP4wyBQwKCf"
      }
    },
    {
      "cell_type": "markdown",
      "source": [
        "Step 2: Design\n",
        "\n",
        "1. Define a function calculate_paint_job that takes in the square feet of wall space to be painted and the price of paint per gallon as arguments, calculates the number of gallons of paint required, hours of labor required, cost of paint, labor charges, and total cost of paint job, and returns these values.\n",
        "2. Inside the calculate_paint_job function:\n",
        "\n",
        "a. Validate the inputs to ensure that they are non-negative and not zero.\n",
        "\n",
        "b. Calculate the number of gallons of paint required using the formula gallons of paint required = square feet of wall space to be painted / 112 (rounded up).\n",
        "\n",
        "c. Calculate the hours of labor required using the formula hours of labor required = gallons of paint required * 8.\n",
        "\n",
        "\n",
        "d. Calculate the cost of paint using the formula cost of paint = gallons of paint required * price of paint per gallon.\n",
        "\n",
        "e. Calculate the labor charges using the formula labor charges = hours of labor required * 35.\n",
        "\n",
        "f. Calculate the total cost of paint job by adding the cost of paint and labor charges.\n",
        "g. Return the calculated values as a tuple.\n",
        "3. In the main program:\n",
        "\n",
        "a. Take user inputs for the square feet of wall space to be painted and the price of paint per gallon.\n",
        "\n",
        "b. Call the calculate_paint_job function with the user inputs as arguments.\n",
        "\n",
        "c. Unpack the returned values into separate variables.\n",
        "\n",
        "d. Print out the results using formatted strings with appropriate labels and formatting."
      ],
      "metadata": {
        "id": "69s9UZdrwiZn"
      }
    },
    {
      "cell_type": "markdown",
      "source": [
        "**Step 3: Implementation**"
      ],
      "metadata": {
        "id": "TWfFnZFrxbej"
      }
    },
    {
      "cell_type": "code",
      "source": [
        "import math\n",
        "\n",
        "def calculate_paint_job(square_feet, paint_price):\n",
        "    \"\"\"\n",
        "    Calculates the number of gallons of paint required, hours of labor required, cost of paint,\n",
        "    labor charges, and total cost of paint job based on the square feet of wall space to be painted\n",
        "    and the price of paint per gallon.\n",
        "    \"\"\"\n",
        "    # Validate inputs\n",
        "    if square_feet <= 0 or paint_price <= 0:\n",
        "        raise ValueError(\"Square feet and paint price must be positive and non-zero.\")\n",
        "\n",
        "    # Calculate gallons of paint required\n",
        "    gallons_of_paint = math.ceil(square_feet / 112)\n",
        "\n",
        "    # Calculate hours of labor required\n",
        "    hours_of_labor = gallons_of_paint * 8\n",
        "\n",
        "    # Calculate cost of paint\n",
        "    cost_of_paint = gallons_of_paint * paint_price\n",
        "\n",
        "    # Calculate labor charges\n",
        "    labor_charges = hours_of_labor * 35\n",
        "\n",
        "    # Calculate total cost of paint job\n",
        "    total_cost = cost_of_paint + labor_charges\n",
        "\n",
        "    # Return calculated values as a tuple\n",
        "    return (gallons_of_paint, hours_of_labor, cost_of_paint, labor_charges, total_cost)\n",
        "\n",
        "\n",
        "def main():\n",
        "    # Take user inputs for square feet of wall space and price of paint per gallon\n",
        "    square_feet = float(input(\"Enter the square feet of wall space to be painted: \"))\n",
        "    paint_price = float(input(\"Enter the price of paint per gallon: \"))\n",
        "\n",
        "    try:\n",
        "        # Calculate paint job details using calculate_paint_job function\n",
        "        gallons_of_paint, hours_of_labor, cost_of_paint, labor_charges, total_cost = calculate_paint_job(square_feet, paint_price)\n",
        "\n",
        "        # Print out paint job details using formatted strings\n",
        "        print(f\"Number of gallons of paint required: {gallons_of_paint}\")\n",
        "        print(f\"Hours of labor required: {hours_of_labor}\")\n",
        "        print(f\"Cost of paint: ${cost_of_paint:.2f}\")\n",
        "        print(f\"Labor charges: ${labor_charges:.2f}\")\n",
        "        print(f\"Total cost of paint job: ${total_cost:.2f}\")\n",
        "    except ValueError as e:\n",
        "        print(f\"Error: {e}\")\n",
        "\n",
        "\n",
        "if __name__ == \"__main__\":\n",
        "    main()\n"
      ],
      "metadata": {
        "colab": {
          "base_uri": "https://localhost:8080/"
        },
        "id": "rM6TvaIWxtd7",
        "outputId": "fe982d4c-f650-44dc-b3a7-102b94d5eb59"
      },
      "execution_count": null,
      "outputs": [
        {
          "output_type": "stream",
          "name": "stdout",
          "text": [
            "Enter the square feet of wall space to be painted: 1800\n",
            "Enter the price of paint per gallon: 18.5\n",
            "Number of gallons of paint required: 17\n",
            "Hours of labor required: 136\n",
            "Cost of paint: $314.50\n",
            "Labor charges: $4760.00\n",
            "Total cost of paint job: $5074.50\n"
          ]
        }
      ]
    },
    {
      "cell_type": "markdown",
      "source": [
        "Sample output 1:\n",
        "```\n",
        "Enter the square feet of wall space to be painted: 1800\n",
        "Enter the price of paint per gallon: 18.5\n",
        "\n",
        "Number of gallons of paint required: 16.07\n",
        "Hours of labor required: 128.57\n",
        "Cost of the paint: $297.45\n",
        "Labor charges: $4499.95\n",
        "Total cost of the paint job: $4797.40\n",
        "```"
      ],
      "metadata": {
        "id": "OjIbFL_yyK9z"
      }
    },
    {
      "cell_type": "markdown",
      "source": [
        "### Test your program with some valid and invalid cases"
      ],
      "metadata": {
        "id": "Sdy8NRHrWJ0u"
      }
    },
    {
      "cell_type": "code",
      "source": [
        "Valid Cases:\n",
        "\n",
        "Case 1: Square feet = 500, Paint Price = 25"
      ],
      "metadata": {
        "id": "ekCKmlCzWdaj"
      },
      "execution_count": null,
      "outputs": []
    },
    {
      "cell_type": "code",
      "source": [
        "import math\n",
        "\n",
        "def calculate_paint_job(square_feet, paint_price):\n",
        "    \"\"\"\n",
        "    Calculates the number of gallons of paint required, hours of labor required, cost of paint,\n",
        "    labor charges, and total cost of paint job based on the square feet of wall space to be painted\n",
        "    and the price of paint per gallon.\n",
        "    \"\"\"\n",
        "    # Validate inputs\n",
        "    if square_feet <= 0 or paint_price <= 0:\n",
        "        raise ValueError(\"Square feet and paint price must be positive and non-zero.\")\n",
        "\n",
        "    # Calculate gallons of paint required\n",
        "    gallons_of_paint = math.ceil(square_feet / 112)\n",
        "\n",
        "    # Calculate hours of labor required\n",
        "    hours_of_labor = gallons_of_paint * 8\n",
        "\n",
        "    # Calculate cost of paint\n",
        "    cost_of_paint = gallons_of_paint * paint_price\n",
        "\n",
        "    # Calculate labor charges\n",
        "    labor_charges = hours_of_labor * 35\n",
        "\n",
        "    # Calculate total cost of paint job\n",
        "    total_cost = cost_of_paint + labor_charges\n",
        "\n",
        "    # Return calculated values as a tuple\n",
        "    return (gallons_of_paint, hours_of_labor, cost_of_paint, labor_charges, total_cost)\n",
        "\n",
        "\n",
        "def main():\n",
        "    # Take user inputs for square feet of wall space and price of paint per gallon\n",
        "    square_feet = float(input(\"Enter the square feet of wall space to be painted: \"))\n",
        "    paint_price = float(input(\"Enter the price of paint per gallon: \"))\n",
        "\n",
        "    try:\n",
        "        # Calculate paint job details using calculate_paint_job function\n",
        "        gallons_of_paint, hours_of_labor, cost_of_paint, labor_charges, total_cost = calculate_paint_job(square_feet, paint_price)\n",
        "\n",
        "        # Print out paint job details using formatted strings\n",
        "        print(f\"Number of gallons of paint required: {gallons_of_paint}\")\n",
        "        print(f\"Hours of labor required: {hours_of_labor}\")\n",
        "        print(f\"Cost of paint: ${cost_of_paint:.2f}\")\n",
        "        print(f\"Labor charges: ${labor_charges:.2f}\")\n",
        "        print(f\"Total cost of paint job: ${total_cost:.2f}\")\n",
        "    except ValueError as e:\n",
        "        print(f\"Error: {e}\")\n",
        "\n",
        "\n",
        "if __name__ == \"__main__\":\n",
        "    main()"
      ],
      "metadata": {
        "colab": {
          "base_uri": "https://localhost:8080/"
        },
        "id": "Sl5mCL1t0TGy",
        "outputId": "1738b129-b77f-4d5c-e20e-25a9da65f158"
      },
      "execution_count": null,
      "outputs": [
        {
          "output_type": "stream",
          "name": "stdout",
          "text": [
            "Enter the square feet of wall space to be painted: 500\n",
            "Enter the price of paint per gallon: 25\n",
            "Number of gallons of paint required: 5\n",
            "Hours of labor required: 40\n",
            "Cost of paint: $125.00\n",
            "Labor charges: $1400.00\n",
            "Total cost of paint job: $1525.00\n"
          ]
        }
      ]
    },
    {
      "cell_type": "markdown",
      "source": [
        "Invalid Cases:\n",
        "\n",
        "Case 1: Square feet = -100, Paint Price = 20"
      ],
      "metadata": {
        "id": "MmOQI0OS0lxW"
      }
    },
    {
      "cell_type": "code",
      "source": [
        "import math\n",
        "\n",
        "def calculate_paint_job(square_feet, paint_price):\n",
        "    \"\"\"\n",
        "    Calculates the number of gallons of paint required, hours of labor required, cost of paint,\n",
        "    labor charges, and total cost of paint job based on the square feet of wall space to be painted\n",
        "    and the price of paint per gallon.\n",
        "    \"\"\"\n",
        "    # Validate inputs\n",
        "    if square_feet <= 0 or paint_price <= 0:\n",
        "        raise ValueError(\"Square feet and paint price must be positive and non-zero.\")\n",
        "\n",
        "    # Calculate gallons of paint required\n",
        "    gallons_of_paint = math.ceil(square_feet / 112)\n",
        "\n",
        "    # Calculate hours of labor required\n",
        "    hours_of_labor = gallons_of_paint * 8\n",
        "\n",
        "    # Calculate cost of paint\n",
        "    cost_of_paint = gallons_of_paint * paint_price\n",
        "\n",
        "    # Calculate labor charges\n",
        "    labor_charges = hours_of_labor * 35\n",
        "\n",
        "    # Calculate total cost of paint job\n",
        "    total_cost = cost_of_paint + labor_charges\n",
        "\n",
        "    # Return calculated values as a tuple\n",
        "    return (gallons_of_paint, hours_of_labor, cost_of_paint, labor_charges, total_cost)\n",
        "\n",
        "\n",
        "def main():\n",
        "    # Take user inputs for square feet of wall space and price of paint per gallon\n",
        "    square_feet = float(input(\"Enter the square feet of wall space to be painted: \"))\n",
        "    paint_price = float(input(\"Enter the price of paint per gallon: \"))\n",
        "\n",
        "    try:\n",
        "        # Calculate paint job details using calculate_paint_job function\n",
        "        gallons_of_paint, hours_of_labor, cost_of_paint, labor_charges, total_cost = calculate_paint_job(square_feet, paint_price)\n",
        "\n",
        "        # Print out paint job details using formatted strings\n",
        "        print(f\"Number of gallons of paint required: {gallons_of_paint}\")\n",
        "        print(f\"Hours of labor required: {hours_of_labor}\")\n",
        "        print(f\"Cost of paint: ${cost_of_paint:.2f}\")\n",
        "        print(f\"Labor charges: ${labor_charges:.2f}\")\n",
        "        print(f\"Total cost of paint job: ${total_cost:.2f}\")\n",
        "    except ValueError as e:\n",
        "        print(f\"Error: {e}\")\n",
        "\n",
        "\n",
        "if __name__ == \"__main__\":\n",
        "    main()"
      ],
      "metadata": {
        "colab": {
          "base_uri": "https://localhost:8080/"
        },
        "id": "8ZevvUeC0q1d",
        "outputId": "86d6e121-8b0e-416a-9e29-00b5286c6103"
      },
      "execution_count": null,
      "outputs": [
        {
          "output_type": "stream",
          "name": "stdout",
          "text": [
            "Enter the square feet of wall space to be painted: -100\n",
            "Enter the price of paint per gallon: 20\n",
            "Error: Square feet and paint price must be positive and non-zero.\n"
          ]
        }
      ]
    },
    {
      "cell_type": "markdown",
      "source": [
        "### Modify the program so it print results and write results to a file."
      ],
      "metadata": {
        "id": "vw_BIIeeNsCl"
      }
    },
    {
      "cell_type": "code",
      "source": [
        "import sys\n",
        "\n",
        "def calculate_paint_job(square_feet, paint_price):\n",
        "    if square_feet <= 0 or paint_price <= 0:\n",
        "        print(\"Error: Square feet and paint price must be positive and non-zero.\")\n",
        "        return\n",
        "\n",
        "    gallons_of_paint = square_feet / 112.0\n",
        "    hours_of_labor = gallons_of_paint * 8\n",
        "    cost_of_paint = gallons_of_paint * paint_price\n",
        "    labor_charges = hours_of_labor * 35\n",
        "    total_cost = cost_of_paint + labor_charges\n",
        "\n",
        "    print(\"Number of gallons of paint required: {:.2f}\".format(gallons_of_paint))\n",
        "    print(\"Hours of labor required: {:.2f}\".format(hours_of_labor))\n",
        "    print(\"Cost of paint: ${:.2f}\".format(cost_of_paint))\n",
        "    print(\"Labor charges: ${:.2f}\".format(labor_charges))\n",
        "    print(\"Total cost of paint job: ${:.2f}\".format(total_cost))\n",
        "\n",
        "    with open('paint_job_results.txt', 'w') as file:\n",
        "        file.write(\"Number of gallons of paint required: {:.2f}\\n\".format(gallons_of_paint))\n",
        "        file.write(\"Hours of labor required: {:.2f}\\n\".format(hours_of_labor))\n",
        "        file.write(\"Cost of paint: ${:.2f}\\n\".format(cost_of_paint))\n",
        "        file.write(\"Labor charges: ${:.2f}\\n\".format(labor_charges))\n",
        "        file.write(\"Total cost of paint job: ${:.2f}\\n\".format(total_cost))\n",
        "\n",
        "if __name__ == \"__main__\":\n",
        "    square_feet = float(input(\"Enter square feet of wall space to be painted: \"))\n",
        "    paint_price = float(input(\"Enter price of paint per gallon: \"))\n",
        "\n",
        "    calculate_paint_job(square_feet, paint_price)\n"
      ],
      "metadata": {
        "id": "-mBD-_ApTLSD",
        "colab": {
          "base_uri": "https://localhost:8080/",
          "height": 380
        },
        "outputId": "6be060fa-6f03-445a-d825-3f1e01f8d062"
      },
      "execution_count": 1,
      "outputs": [
        {
          "output_type": "error",
          "ename": "KeyboardInterrupt",
          "evalue": "ignored",
          "traceback": [
            "\u001b[0;31m---------------------------------------------------------------------------\u001b[0m",
            "\u001b[0;31mKeyboardInterrupt\u001b[0m                         Traceback (most recent call last)",
            "\u001b[0;32m<ipython-input-1-9bd26bca58d1>\u001b[0m in \u001b[0;36m<cell line: 27>\u001b[0;34m()\u001b[0m\n\u001b[1;32m     26\u001b[0m \u001b[0;34m\u001b[0m\u001b[0m\n\u001b[1;32m     27\u001b[0m \u001b[0;32mif\u001b[0m \u001b[0m__name__\u001b[0m \u001b[0;34m==\u001b[0m \u001b[0;34m\"__main__\"\u001b[0m\u001b[0;34m:\u001b[0m\u001b[0;34m\u001b[0m\u001b[0;34m\u001b[0m\u001b[0m\n\u001b[0;32m---> 28\u001b[0;31m     \u001b[0msquare_feet\u001b[0m \u001b[0;34m=\u001b[0m \u001b[0mfloat\u001b[0m\u001b[0;34m(\u001b[0m\u001b[0minput\u001b[0m\u001b[0;34m(\u001b[0m\u001b[0;34m\"Enter square feet of wall space to be painted: \"\u001b[0m\u001b[0;34m)\u001b[0m\u001b[0;34m)\u001b[0m\u001b[0;34m\u001b[0m\u001b[0;34m\u001b[0m\u001b[0m\n\u001b[0m\u001b[1;32m     29\u001b[0m     \u001b[0mpaint_price\u001b[0m \u001b[0;34m=\u001b[0m \u001b[0mfloat\u001b[0m\u001b[0;34m(\u001b[0m\u001b[0minput\u001b[0m\u001b[0;34m(\u001b[0m\u001b[0;34m\"Enter price of paint per gallon: \"\u001b[0m\u001b[0;34m)\u001b[0m\u001b[0;34m)\u001b[0m\u001b[0;34m\u001b[0m\u001b[0;34m\u001b[0m\u001b[0m\n\u001b[1;32m     30\u001b[0m \u001b[0;34m\u001b[0m\u001b[0m\n",
            "\u001b[0;32m/usr/local/lib/python3.9/dist-packages/ipykernel/kernelbase.py\u001b[0m in \u001b[0;36mraw_input\u001b[0;34m(self, prompt)\u001b[0m\n\u001b[1;32m    849\u001b[0m                 \u001b[0;34m\"raw_input was called, but this frontend does not support input requests.\"\u001b[0m\u001b[0;34m\u001b[0m\u001b[0;34m\u001b[0m\u001b[0m\n\u001b[1;32m    850\u001b[0m             )\n\u001b[0;32m--> 851\u001b[0;31m         return self._input_request(str(prompt),\n\u001b[0m\u001b[1;32m    852\u001b[0m             \u001b[0mself\u001b[0m\u001b[0;34m.\u001b[0m\u001b[0m_parent_ident\u001b[0m\u001b[0;34m,\u001b[0m\u001b[0;34m\u001b[0m\u001b[0;34m\u001b[0m\u001b[0m\n\u001b[1;32m    853\u001b[0m             \u001b[0mself\u001b[0m\u001b[0;34m.\u001b[0m\u001b[0m_parent_header\u001b[0m\u001b[0;34m,\u001b[0m\u001b[0;34m\u001b[0m\u001b[0;34m\u001b[0m\u001b[0m\n",
            "\u001b[0;32m/usr/local/lib/python3.9/dist-packages/ipykernel/kernelbase.py\u001b[0m in \u001b[0;36m_input_request\u001b[0;34m(self, prompt, ident, parent, password)\u001b[0m\n\u001b[1;32m    893\u001b[0m             \u001b[0;32mexcept\u001b[0m \u001b[0mKeyboardInterrupt\u001b[0m\u001b[0;34m:\u001b[0m\u001b[0;34m\u001b[0m\u001b[0;34m\u001b[0m\u001b[0m\n\u001b[1;32m    894\u001b[0m                 \u001b[0;31m# re-raise KeyboardInterrupt, to truncate traceback\u001b[0m\u001b[0;34m\u001b[0m\u001b[0;34m\u001b[0m\u001b[0m\n\u001b[0;32m--> 895\u001b[0;31m                 \u001b[0;32mraise\u001b[0m \u001b[0mKeyboardInterrupt\u001b[0m\u001b[0;34m(\u001b[0m\u001b[0;34m\"Interrupted by user\"\u001b[0m\u001b[0;34m)\u001b[0m \u001b[0;32mfrom\u001b[0m \u001b[0;32mNone\u001b[0m\u001b[0;34m\u001b[0m\u001b[0;34m\u001b[0m\u001b[0m\n\u001b[0m\u001b[1;32m    896\u001b[0m             \u001b[0;32mexcept\u001b[0m \u001b[0mException\u001b[0m \u001b[0;32mas\u001b[0m \u001b[0me\u001b[0m\u001b[0;34m:\u001b[0m\u001b[0;34m\u001b[0m\u001b[0;34m\u001b[0m\u001b[0m\n\u001b[1;32m    897\u001b[0m                 \u001b[0mself\u001b[0m\u001b[0;34m.\u001b[0m\u001b[0mlog\u001b[0m\u001b[0;34m.\u001b[0m\u001b[0mwarning\u001b[0m\u001b[0;34m(\u001b[0m\u001b[0;34m\"Invalid Message:\"\u001b[0m\u001b[0;34m,\u001b[0m \u001b[0mexc_info\u001b[0m\u001b[0;34m=\u001b[0m\u001b[0;32mTrue\u001b[0m\u001b[0;34m)\u001b[0m\u001b[0;34m\u001b[0m\u001b[0;34m\u001b[0m\u001b[0m\n",
            "\u001b[0;31mKeyboardInterrupt\u001b[0m: Interrupted by user"
          ]
        }
      ]
    },
    {
      "cell_type": "markdown",
      "source": [
        "### Plot a graph to visualise the result\n",
        "\n",
        "For example:\n",
        "* Bar chart of cost breakdown: Create a bar chart that shows the breakdown of costs for a given paint job. The chart could have two bars: one for the cost of the paint and one for the labor charges. This would help visualize how much each component of the job contributes to the overall cost.\n",
        "\n",
        "* Line chart of paint cost over time: Create a line chart that shows how the cost of paint changes over time. This could help you see trends and fluctuations in paint prices.\n"
      ],
      "metadata": {
        "id": "NmDIwHQ3T_bU"
      }
    },
    {
      "cell_type": "code",
      "source": [],
      "metadata": {
        "id": "16TiKLbnViVN"
      },
      "execution_count": null,
      "outputs": []
    }
  ]
}