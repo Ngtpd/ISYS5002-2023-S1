{
  "cells": [
    {
      "cell_type": "markdown",
      "metadata": {
        "id": "view-in-github",
        "colab_type": "text"
      },
      "source": [
        "<a href=\"https://colab.research.google.com/github/Ngtpd/ISYS5002-2023-S1/blob/main/02_3_Simple_Interest_Calculator.ipynb\" target=\"_parent\"><img src=\"https://colab.research.google.com/assets/colab-badge.svg\" alt=\"Open In Colab\"/></a>"
      ]
    },
    {
      "cell_type": "markdown",
      "id": "b7a42e71-7361-4878-a06f-0fc857db581f",
      "metadata": {
        "id": "b7a42e71-7361-4878-a06f-0fc857db581f"
      },
      "source": [
        "# Simple Interest Calculator\n",
        "\n",
        "The process of problem solving we will use can be broken down into 6 key steps:\n",
        "1. State the problem clearly\n",
        "2. Describe the input and output information\n",
        "3. Work the problem by hand\n",
        "4. Develop an algorithm \n",
        "5. Covert the algorithm to python\n",
        "6. Test solution with a variety of data\n",
        "\n",
        "\n",
        "### 1. State Problem Clearly\n",
        "\n",
        "Simple interest in a bank is given by the formula:\n",
        "\n",
        "    Simple Interest = (Ammount Borrowed  x  Interest Rate * years) / 100\n",
        "    \n",
        "\n",
        "### 2. Describe Inputs/Outputs\n",
        "\n",
        "\n",
        "| input | processing | output|\n",
        "|-------|------------|-------|\n",
        "| Amount Borowed |    | Simple Interest |\n",
        "| Interest Rate | | |\n",
        "| Loan Period | | | \n",
        "\n",
        "### 3. Work the problem by hand\n",
        "\n",
        "Borrowed $10,000\n",
        "Interest Rate of 2%\n",
        "Lenghtof loan is 5 years\n",
        "\n",
        "\n",
        "Simple interest \n",
        "=  (10,000 * 2 * 5) / 100\n",
        "= 1,000\n",
        "\n",
        "### 4. Develop and algorithm\n",
        "\n",
        "Here is the pseudocode\n",
        "\n",
        "        Get the amount borrowed\n",
        "        Get the interest rate\n",
        "        Get the loan period\n",
        "        let simple interest = (ammount borrowed * interest rate * loan period) / 100\n",
        "        print The total interest on the loan is: simple interest\n"
      ]
    },
    {
      "cell_type": "code",
      "source": [
        "#Classtask: write the codes the requirement below"
      ],
      "metadata": {
        "id": "oA72dtgOBeWE"
      },
      "id": "oA72dtgOBeWE",
      "execution_count": null,
      "outputs": []
    },
    {
      "cell_type": "code",
      "execution_count": null,
      "id": "f9a6e70b-c83a-4513-90d7-3cbcfbf9cde7",
      "metadata": {
        "id": "f9a6e70b-c83a-4513-90d7-3cbcfbf9cde7",
        "colab": {
          "base_uri": "https://localhost:8080/"
        },
        "outputId": "0d59844d-dceb-4bf7-d366-bddfc46c39c9"
      },
      "outputs": [
        {
          "output_type": "stream",
          "name": "stdout",
          "text": [
            "The total interest on the loan is: 1000.0\n"
          ]
        }
      ],
      "source": [
        "# Get the amount borrowed\n",
        "amount_borrowed=10000\n",
        "                             \n",
        "# Get the interest rate\n",
        "interest_rate=2\n",
        "# Get the loan period\n",
        "loan_period=5                      \n",
        "# let simple interest = (ammount borrowed * interest rate * loan period)\n",
        "total=amount_borrowed*interest_rate*loan_period\n",
        "simple_interest=total/100\n",
        "# print The total interest on the loan is: simple interest\n",
        "print(\"The total interest on the loan is:\",simple_interest)"
      ]
    },
    {
      "cell_type": "markdown",
      "id": "26e44634-3041-4ffb-acd9-fa11eb36f2df",
      "metadata": {
        "id": "26e44634-3041-4ffb-acd9-fa11eb36f2df"
      },
      "source": [
        "### 5. Test with a variety of data.\n",
        "\n",
        "We could modify the above cell with new data and then run the code.  But rather than type in different values each time, perhaps it easier to be prompted for the infromation.  \n",
        "\n",
        "Write a version that uses the input() function to prompt the user for the required data."
      ]
    },
    {
      "cell_type": "code",
      "execution_count": 15,
      "id": "4299ad3d-5672-42fa-bf17-fbf7360e66c5",
      "metadata": {
        "id": "4299ad3d-5672-42fa-bf17-fbf7360e66c5",
        "colab": {
          "base_uri": "https://localhost:8080/"
        },
        "outputId": "b4df5884-5ef7-48c5-a736-0a25ca6d9422"
      },
      "outputs": [
        {
          "output_type": "stream",
          "name": "stdout",
          "text": [
            "amount_borrowed 20000\n",
            "interest_rate 2\n",
            "loan_period 5\n",
            "The total interest on the loan is: 2000.0\n"
          ]
        }
      ],
      "source": [
        "# input values with a variety of data\n",
        "#ammount borrowed\n",
        "num1=int(input(\"amount_borrowed \"))   \n",
        "#interest rate\n",
        "num2=int(input(\"interest_rate \"))\n",
        "#loan period\n",
        "nume3=int(input(\"loan_period \"))   \n",
        "       \n",
        "# let simple interest = (ammount borrowed * interest rate * loan period)\n",
        "total=num1*num2*num3\n",
        "simple_interest=total/100\n",
        "# print The total interest on the loan is: simple interest\n",
        "print(\"The total interest on the loan is:\",simple_interest)"
      ]
    },
    {
      "cell_type": "code",
      "source": [
        "#using input function with variety of data\n",
        "num1=int(input(\"amount_borrowed \"))\n",
        "num2=int(input(\"interest_rate \"))\n",
        "num3=int(input(\"loan_period \"))        \n",
        "# let simple interest = (ammount borrowed * interest rate * loan period)\n",
        "total=num1*num2*num3\n",
        "simple_interest=total/100\n",
        "# print The total interest on the loan is: simple interest\n",
        "print(\"The total interest on the loan is:\",simple_interest)"
      ],
      "metadata": {
        "colab": {
          "base_uri": "https://localhost:8080/"
        },
        "id": "NCzd6i9zUOae",
        "outputId": "c686814b-2ff6-4894-af86-7b3e9e170504"
      },
      "id": "NCzd6i9zUOae",
      "execution_count": 11,
      "outputs": [
        {
          "output_type": "stream",
          "name": "stdout",
          "text": [
            "amount_borrowed 30000\n",
            "interest_rate 2\n",
            "loan_period 5\n",
            "The total interest on the loan is: 3000.0\n"
          ]
        }
      ]
    },
    {
      "cell_type": "code",
      "source": [],
      "metadata": {
        "id": "5vnrKlEQEndh"
      },
      "id": "5vnrKlEQEndh",
      "execution_count": null,
      "outputs": []
    }
  ],
  "metadata": {
    "colab": {
      "provenance": [],
      "include_colab_link": true
    },
    "kernelspec": {
      "display_name": "Python 3 (ipykernel)",
      "language": "python",
      "name": "python3"
    },
    "language_info": {
      "codemirror_mode": {
        "name": "ipython",
        "version": 3
      },
      "file_extension": ".py",
      "mimetype": "text/x-python",
      "name": "python",
      "nbconvert_exporter": "python",
      "pygments_lexer": "ipython3",
      "version": "3.9.7"
    }
  },
  "nbformat": 4,
  "nbformat_minor": 5
}