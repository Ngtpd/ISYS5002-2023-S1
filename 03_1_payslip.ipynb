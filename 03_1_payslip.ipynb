{
  "cells": [
    {
      "cell_type": "markdown",
      "metadata": {
        "id": "view-in-github",
        "colab_type": "text"
      },
      "source": [
        "<a href=\"https://colab.research.google.com/github/Ngtpd/ISYS5002-2023-S1/blob/main/03_1_payslip.ipynb\" target=\"_parent\"><img src=\"https://colab.research.google.com/assets/colab-badge.svg\" alt=\"Open In Colab\"/></a>"
      ]
    },
    {
      "cell_type": "markdown",
      "metadata": {
        "id": "kF8ldRydTDPx"
      },
      "source": [
        "# Payslip\n",
        "\n",
        "A payslip is a document that shows their total wages earned for a set period. \n",
        "This might be from a salary, hourly wages or commission. Payslips are also know as ‘pay advice’.  Traditionally the payslip was a paper document attached. Today\n",
        "most organisations provide them electronically.\n",
        "\n",
        "## Task 0 - Import into GitHub\n",
        "First, import the notebook into Colab and save an initial copy to GitHub.\n",
        "\n",
        "## Task 1 - Start Simple\n",
        "\n",
        "Writing complete robust programs can take time.  Often the more we understand a problem the easier it is to implement the solution.   One approach is to implement the simplest version of a program and then slowly add functionality.\n",
        "\n",
        "This notebook aims to start simple and slowly build up the program.\n",
        "The approach we take below is one way to understand a problem, step 1 of our development process. Complex projects, often follow a similar idea\n",
        "where they implement a minimal program, and each week or month has intense periods where the team adds functionality.  These advanced methodologies are beyond the scope of an introductory programming course but by starting small and slowly adding functionality we do capture the essence of the process.\n",
        "\n",
        "\n",
        "### The Initial (minimal) Program\n",
        "\n",
        "Consider 'Ram' who has a salary of \\$25,000.  They have sold goods worth $20,000 and earn a 2% commission on the sales. They fall into the 10% tax bracket. We will talk about tax brackets in another notebook. Before making payments the organisation needs to deduct 10% tax.\n",
        "\n",
        "We need to program to print out a payslip for salespeople. Our payslip\n",
        "is very simple, we need a title, the amount of salary, the amount of commission, the amount of tax, and the total pay.\n",
        "\n",
        "Run the following program for one person."
      ]
    },
    {
      "cell_type": "code",
      "execution_count": null,
      "metadata": {
        "id": "2UenEHfcTuLz",
        "colab": {
          "base_uri": "https://localhost:8080/"
        },
        "outputId": "2300e717-d594-4bed-cda3-b385c93f0fa3"
      },
      "outputs": [
        {
          "output_type": "stream",
          "name": "stdout",
          "text": [
            "=== Payslip of Ram ===\n",
            "Salary:     25000 \n",
            "Commission: 400.0 \n",
            "Tax:        2540.0\n",
            "Total pay:  22860.0\n"
          ]
        }
      ],
      "source": [
        "# assign values for salar and sales\n",
        "salary = 25000\n",
        "sales = 20000\n",
        "\n",
        "# calculate the commision \n",
        "commission = 0.02 * sales\n",
        "#or commission = (2/100) * sales\n",
        "\n",
        "# calculate the tax\n",
        "tax = (salary + commission) * 0.10\n",
        "\n",
        "# calculate the pay\n",
        "pay = salary + commission - tax\n",
        "\n",
        "# print the payslip\n",
        "print('=== Payslip of Ram ===')\n",
        "\n",
        "print(f\"Salary: {salary:9} \\nCommission: {commission:} \\nTax: {tax:13}\")  #13 means space\n",
        "\n",
        "print(f\"Total pay: {pay:8}\")\n"
      ]
    },
    {
      "cell_type": "code",
      "source": [
        "# assign values for salar and sales\n",
        "salary = 25000\n",
        "sales = 20000\n",
        "\n",
        "# calculate the commision\n",
        "commission = 0.02 * sales\n",
        "\n",
        "# calculate the tax\n",
        "tax = (salary + commission) * 0.10\n",
        "\n",
        "# calculate the pay\n",
        "pay = salary + commission - tax\n",
        "\n",
        "# print the payslip\n",
        "print('=== Payslip of Ram ===')\n",
        "\n",
        "#print(\"Salary:\",salary,\"\\nCommission: \",commission, \"\\nTax:\", tax)\n",
        "\n",
        "print(f\"Salary: {salary:9} \\nCommission: {commission:2} \\nTax: {tax:12}\")\n",
        "\n",
        "print(f\"Total pay: {pay:8}\")"
      ],
      "metadata": {
        "colab": {
          "base_uri": "https://localhost:8080/"
        },
        "id": "234eZX4CzWqc",
        "outputId": "df4acdbd-3b38-4973-88e1-da18bce76271"
      },
      "execution_count": null,
      "outputs": [
        {
          "output_type": "stream",
          "name": "stdout",
          "text": [
            "=== Payslip of Ram ===\n",
            "Salary:     25000 \n",
            "Commission: 400.0 \n",
            "Tax:       2540.0\n",
            "Total pay:  22860.0\n"
          ]
        }
      ]
    },
    {
      "cell_type": "markdown",
      "metadata": {
        "id": "QzcJGzRBUDz2"
      },
      "source": [
        "Now, consider 'Radha' who has a salary of \\$30,000.  They have sold goods worth $40,000 and earns 2.5% commision on the sales. They fall into the 10% tax bracket and so before making payments we need to deduct 10% form their total payout."
      ]
    },
    {
      "cell_type": "code",
      "execution_count": null,
      "metadata": {
        "id": "wFmuD9ujUgDW",
        "colab": {
          "base_uri": "https://localhost:8080/"
        },
        "outputId": "ea0d25ee-fc3d-48bc-f87f-0aaccc47c4aa"
      },
      "outputs": [
        {
          "output_type": "stream",
          "name": "stdout",
          "text": [
            "=== Payslip of Ram ===\n",
            "Salary:     30000 \n",
            "Commission: 1000.0 \n",
            "Tax:        3100.0\n",
            "Total pay:  27900.0\n"
          ]
        }
      ],
      "source": [
        "# assign values for salar and sales\n",
        "salary = 30000\n",
        "sales = 40000\n",
        "\n",
        "# calculate the commision\n",
        "commission = 0.025 * sales\n",
        "\n",
        "# calculate the tax\n",
        "tax = (salary + commission) * 0.10\n",
        "\n",
        "# calculate the pay\n",
        "pay = salary + commission - tax\n",
        "\n",
        "# print the payslip\n",
        "print('=== Payslip of Radha ===')\n",
        "\n",
        "#print(\"Salary:\",salary,\"\\nCommission: \",commission, \"\\nTax:\", tax)\n",
        "\n",
        "print(f\"Salary: {salary:9} \\nCommission: {commission:2} \\nTax: {tax:13}\")\n",
        "\n",
        "print(f\"Total pay: {pay:8}\")"
      ]
    },
    {
      "cell_type": "markdown",
      "metadata": {
        "id": "UFGObxq7UlvE"
      },
      "source": [
        "## Task 2 - Generalise\n",
        "\n",
        "What details did we change from Ram to Radha?"
      ]
    },
    {
      "cell_type": "code",
      "execution_count": null,
      "metadata": {
        "id": "zMEi9q1dUr36"
      },
      "outputs": [],
      "source": [
        "#salary\n",
        "#sales\n",
        "#commission\n",
        "\n",
        "#fix the tax as 10%"
      ]
    },
    {
      "cell_type": "markdown",
      "metadata": {
        "id": "7PrlmDmYV6iX"
      },
      "source": [
        "Make what we changed as inputs (parameters) to a function"
      ]
    },
    {
      "cell_type": "code",
      "source": [
        "def calculation_pay(salary,sales,comm):\n",
        "  # calculate the commision\n",
        "  commission = (comm/100) * sales\n",
        "\n",
        "  # calculate the tax\n",
        "  tax = (salary + commission) * 0.10\n",
        "\n",
        "  # calculate the pay\n",
        "  pay = salary + commission - tax\n",
        "  #print(commission,tax,pay)\n",
        "  return pay"
      ],
      "metadata": {
        "id": "qU-qgHJn605g"
      },
      "execution_count": 20,
      "outputs": []
    },
    {
      "cell_type": "code",
      "source": [
        "calculation_pay(25000,40000,2.0) #for Ram\n",
        "calculation_pay(30000,40000,2.5) #for Radha\n",
        "\n",
        "pay=calculation_pay(30000,40000,2.5)\n",
        "print('pay is',pay)"
      ],
      "metadata": {
        "colab": {
          "base_uri": "https://localhost:8080/"
        },
        "id": "svygr5865jlb",
        "outputId": "b6dd5b0c-c089-42e0-fd62-0501ad635242"
      },
      "execution_count": 21,
      "outputs": [
        {
          "output_type": "stream",
          "name": "stdout",
          "text": [
            "pay is 27900.0\n"
          ]
        }
      ]
    },
    {
      "cell_type": "code",
      "source": [
        "def calculation_pay(salary,sales,comm):\n",
        "  # calculate the commision\n",
        "  commission = (comm/100) * sales\n",
        "\n",
        "  # calculate the tax\n",
        "  tax = (salary + commission) * 0.10\n",
        "\n",
        "  # calculate the pay\n",
        "  pay = salary + commission - tax\n",
        "  #print(commission,tax,pay)\n",
        "  return commission, tax, pay"
      ],
      "metadata": {
        "id": "_E0MJ8GV9AhF"
      },
      "execution_count": 19,
      "outputs": []
    },
    {
      "cell_type": "code",
      "source": [
        "comm_result,tax_result,pay_result=calculation_pay(30000,40000,2.5)\n",
        "\n",
        "print('=== Payslip of Radha ===')\n",
        "\n",
        "#print(\"Salary:\",salary,\"\\nCommission: \",commission, \"\\nTax:\", tax)\n",
        "\n",
        "print(f\"Commission: {comm_result:2} \\nTax: {tax_result:12}\")\n",
        "\n",
        "print(f\"Total pay: {pay:8}\")"
      ],
      "metadata": {
        "colab": {
          "base_uri": "https://localhost:8080/"
        },
        "id": "GdC19hTd9IPM",
        "outputId": "85781ff7-fed8-4814-dbe8-cb26020ec507"
      },
      "execution_count": 17,
      "outputs": [
        {
          "output_type": "stream",
          "name": "stdout",
          "text": [
            "=== Payslip of Radha ===\n",
            "Commission: 1000.0 \n",
            "Tax:       3100.0\n",
            "Total pay:  27900.0\n"
          ]
        }
      ]
    },
    {
      "cell_type": "code",
      "source": [
        "#get user input \"name\"\n",
        "name=input(\"What is salepeople's name? \")\n",
        "#get user imput for salary\n",
        "salary=input(\" salepeople's salary is \")\n",
        "sales=input(\" salepeople's sales is \")\n",
        "#get user input for commission\n",
        "comm=input(\"commision rate is \")\n",
        "#pass the salary, sales & commission values to funxtion calculation_pay\n",
        "def calculation_pay(salary,sales,comm):\n",
        "  # calculate the commision\n",
        "  commission = (comm/100) * sales\n",
        "\n",
        "  # calculate the tax\n",
        "  tax = (salary + commission) * 0.10\n",
        "\n",
        "  # calculate the pay\n",
        "  pay = salary + commission - tax\n",
        "  #print(commission,tax,pay)\n",
        "  return commission, tax, pay\n",
        "\n",
        "#print out the payslip nicely formatted\n"
      ],
      "metadata": {
        "id": "_jwby6gG90bq",
        "colab": {
          "base_uri": "https://localhost:8080/"
        },
        "outputId": "421ee84d-ce51-4d84-b801-de433a0c284d"
      },
      "execution_count": 26,
      "outputs": [
        {
          "name": "stdout",
          "output_type": "stream",
          "text": [
            "What is salepeople's name? Darcey\n",
            " salepeople's salary is 10000\n",
            " salepeople's sales is 20000\n",
            "commision rate is 2\n"
          ]
        }
      ]
    },
    {
      "cell_type": "code",
      "source": [
        "#option 1\n",
        "name=input(\"What is salepeople's name? \")\n",
        "#get user imput for salary\n",
        "salary=input(\" salepeople's salary is \")\n",
        "sales=input(\" salepeople's sales is \")\n",
        "#get user input for commission\n",
        "comm=input(\"commision rate is \")\n",
        "\n",
        "\n",
        "print('=== Payslip of'+name+'===')\n",
        "\n",
        "#print(\"Salary:\",salary,\"\\nCommission: \",commission, \"\\nTax:\", tax)\n",
        "\n",
        "print(f\"Commission: {comm_result:2} \\nTax: {tax_result:12}\")\n",
        "\n",
        "print(f\"Total pay: {pay:8}\")"
      ],
      "metadata": {
        "colab": {
          "base_uri": "https://localhost:8080/"
        },
        "id": "KLsGxdUM0L7Y",
        "outputId": "a28653a4-a0a1-4954-9360-bd05434d6735"
      },
      "execution_count": 31,
      "outputs": [
        {
          "output_type": "stream",
          "name": "stdout",
          "text": [
            "What is salepeople's name? Darcey\n",
            " salepeople's salary is 10000\n",
            " salepeople's sales is 20000\n",
            "commision rate is 2\n",
            "=== Payslip ofDarcey===\n",
            "Commission: 400.0 \n",
            "Tax:       1040.0\n",
            "Total pay:  27900.0\n"
          ]
        }
      ]
    },
    {
      "cell_type": "code",
      "source": [
        "#option 2 #pass the salary, sales & commission values to funxtion calculation_pay\n",
        "comm_result,tax_result,pay_result=calculation_pay(1000,20000,2)\n",
        "print('=== Payslip of'+name+'===')\n",
        "\n",
        "#print(\"Salary:\",salary,\"\\nCommission: \",commission, \"\\nTax:\", tax)\n",
        "\n",
        "print(f\"Commission: {comm_result:2} \\nTax: {tax_result:12}\")\n",
        "\n",
        "print(f\"Total pay: {pay:8}\")"
      ],
      "metadata": {
        "colab": {
          "base_uri": "https://localhost:8080/"
        },
        "id": "HdkhR-895POC",
        "outputId": "73b3cdf8-8097-49f6-d167-ba534bfe20ae"
      },
      "execution_count": 33,
      "outputs": [
        {
          "output_type": "stream",
          "name": "stdout",
          "text": [
            "=== Payslip ofDarcey===\n",
            "Commission: 400.0 \n",
            "Tax:        140.0\n",
            "Total pay:  27900.0\n"
          ]
        }
      ]
    },
    {
      "cell_type": "code",
      "source": [
        "#if you want to be advanturous then\n",
        "# create a function just to do the printing\n",
        "#def payslip(name,salary,co_calculated, tax_calculated, net_pay)"
      ],
      "metadata": {
        "id": "vNhQdpDi5qov"
      },
      "execution_count": null,
      "outputs": []
    }
  ],
  "metadata": {
    "colab": {
      "provenance": [],
      "include_colab_link": true
    },
    "kernelspec": {
      "display_name": "Python 3",
      "language": "python",
      "name": "python3"
    },
    "language_info": {
      "codemirror_mode": {
        "name": "ipython",
        "version": 3
      },
      "file_extension": ".py",
      "mimetype": "text/x-python",
      "name": "python",
      "nbconvert_exporter": "python",
      "pygments_lexer": "ipython3",
      "version": "3.8.8"
    }
  },
  "nbformat": 4,
  "nbformat_minor": 0
}