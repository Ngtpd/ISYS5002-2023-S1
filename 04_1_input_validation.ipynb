{
  "cells": [
    {
      "cell_type": "markdown",
      "metadata": {
        "id": "view-in-github",
        "colab_type": "text"
      },
      "source": [
        "<a href=\"https://colab.research.google.com/github/Ngtpd/ISYS5002-2023-S1/blob/main/04_1_input_validation.ipynb\" target=\"_parent\"><img src=\"https://colab.research.google.com/assets/colab-badge.svg\" alt=\"Open In Colab\"/></a>"
      ]
    },
    {
      "cell_type": "markdown",
      "id": "b5835b0c",
      "metadata": {
        "id": "b5835b0c"
      },
      "source": [
        "# Input Validation\n",
        "\n",
        "Input validation code verifies that user supplied data, such as text from the input() function, is formatted appropriately.\n",
        "\n",
        "* try/except\n",
        "* isdigit()\n",
        "* pyinputplus\n"
      ]
    },
    {
      "cell_type": "markdown",
      "source": [
        "## try/except\n",
        "`try/except` is a control structure in Python that is used for exception handling. It allows you to handle errors or exceptions that may occur during the execution of a block of code, so that the program can recover from the error and continue running, instead of crashing.\n",
        "\n",
        "The `try` block is used to *enclose the code that might raise an exception or an error*. If an exception occurs within the `try` block, the program jumps to the `except` block, and executes the code within it, which is designed to handle the exception.\n",
        "\n",
        "Here's the basic syntax for a `try/except` block:\n",
        "\n",
        "\n",
        "```\n",
        "try:\n",
        "    # code that may raise an exception\n",
        "except ExceptionType:\n",
        "    # code to handle the exception\n",
        "```\n",
        "\n",
        "In this example, `ExceptionType` refers to the type of exception that may be raised by the code within the `try` block. When an exception of that type occurs, the program jumps to the `except` block and executes the code within it.\n",
        "\n",
        "If an exception occurs that is not of the specified type, it will not be handled by the `except` block, and the program will terminate with an error message.\n",
        "\n",
        "`try/except` blocks can have multiple `except` blocks to handle different types of exceptions that may occur. It can also have an optional `else` block that is executed if no exceptions are raised within the `try` block.\n"
      ],
      "metadata": {
        "id": "WRX-iQ-hIwbJ"
      },
      "id": "WRX-iQ-hIwbJ"
    },
    {
      "cell_type": "markdown",
      "source": [
        "### Use `try/except` to handle an error that may occur when converting a user's input to an integer:"
      ],
      "metadata": {
        "id": "BgQWp7RRJMLk"
      },
      "id": "BgQWp7RRJMLk"
    },
    {
      "cell_type": "code",
      "source": [
        "try:\n",
        " age_str=input(\"Enter your age\")\n",
        " age= int(age_str)\n",
        "print('Your age is', age)"
      ],
      "metadata": {
        "colab": {
          "base_uri": "https://localhost:8080/",
          "height": 130
        },
        "id": "YfcDmwXf5FLE",
        "outputId": "b5e2b8cd-58eb-467f-a28a-0c766e50733c"
      },
      "id": "YfcDmwXf5FLE",
      "execution_count": 2,
      "outputs": [
        {
          "output_type": "error",
          "ename": "SyntaxError",
          "evalue": "ignored",
          "traceback": [
            "\u001b[0;36m  File \u001b[0;32m\"<ipython-input-2-efbf1d6c7546>\"\u001b[0;36m, line \u001b[0;32m4\u001b[0m\n\u001b[0;31m    print('Your age is', age)\u001b[0m\n\u001b[0m    ^\u001b[0m\n\u001b[0;31mSyntaxError\u001b[0m\u001b[0;31m:\u001b[0m invalid syntax\n"
          ]
        }
      ]
    },
    {
      "cell_type": "code",
      "source": [
        "try:\n",
        "  age_str=input(\"Enter your age: \")\n",
        "  age= int(age_str)\n",
        "  print('Your age is', age)\n",
        "except ValueError:\n",
        "  print(\"Please enter a whole number for age.\")\n"
      ],
      "metadata": {
        "id": "CuiSM1VmTYvW",
        "colab": {
          "base_uri": "https://localhost:8080/"
        },
        "outputId": "fc9edc3b-ba22-4eb8-9c32-4c73b137cee6"
      },
      "id": "CuiSM1VmTYvW",
      "execution_count": null,
      "outputs": [
        {
          "output_type": "stream",
          "name": "stdout",
          "text": [
            "Enter your age: 10\n",
            "Your age is 10\n"
          ]
        }
      ]
    },
    {
      "cell_type": "markdown",
      "source": [
        "In this example, the try block contains the code that attempts to convert the user's input to an integer using the int() function. If the user enters a string that cannot be converted to an integer, a ValueError exception is raised.\n",
        "\n",
        "The except block that follows the try block handles the ValueError exception, and prints an error message asking the user to enter a whole number for their age.\n",
        "\n",
        "Using try/except in this way ensures that the program doesn't crash if the user enters invalid input. Instead, it catches the error and executes the code in the except block to handle the error."
      ],
      "metadata": {
        "id": "xKZCTdx-JXva"
      },
      "id": "xKZCTdx-JXva"
    },
    {
      "cell_type": "markdown",
      "source": [
        "### Use a `while` loop to keep prompting the user to enter their age until they enter a valid integer:"
      ],
      "metadata": {
        "id": "V0ivzQuuLz9H"
      },
      "id": "V0ivzQuuLz9H"
    },
    {
      "cell_type": "code",
      "source": [
        "while True:\n",
        "  try:\n",
        "    age_str = input(\"Enter your age: \")\n",
        "    age = int(age_str)\n",
        "    print('Your age is', age)\n",
        "    break #exit the loop if age is successfully coverted to an int\n",
        "  except ValueError:\n",
        "      print(\"Please enter a whole number for age.\")\n",
        "\n"
      ],
      "metadata": {
        "id": "PaBvbJcbLDgu",
        "colab": {
          "base_uri": "https://localhost:8080/"
        },
        "outputId": "f477a813-5780-429b-c04c-c66f87708479"
      },
      "id": "PaBvbJcbLDgu",
      "execution_count": null,
      "outputs": [
        {
          "output_type": "stream",
          "name": "stdout",
          "text": [
            "Enter your age: 10\n",
            "Your age is 10\n"
          ]
        }
      ]
    },
    {
      "cell_type": "markdown",
      "id": "acc7252b",
      "metadata": {
        "id": "acc7252b"
      },
      "source": [
        "## isdigit()\n",
        "\n",
        "In Python, `isdigit()` is a method that can be called on a string object to check if all characters in the string are digits.\n",
        "\n",
        "It returns `True` if all characters in the string are digits and there is at least one character in the string, otherwise it returns False.\n",
        "\n",
        "`isdigit()` is often used to validate user input for numeric values, like checking if the user entered an integer or a floating-point number. For example, if you expect the user to enter their age as an integer, you could use `isdigit()` to ensure that the input only contains digits before converting it to an integer.\n",
        "\n",
        "### Use `isdigit()` to validate user input for an integer:"
      ]
    },
    {
      "cell_type": "code",
      "execution_count": 8,
      "id": "5f98c241",
      "metadata": {
        "id": "5f98c241",
        "colab": {
          "base_uri": "https://localhost:8080/"
        },
        "outputId": "bc9e938f-80f9-462c-89b4-2ddc8aba57e5"
      },
      "outputs": [
        {
          "name": "stdout",
          "output_type": "stream",
          "text": [
            "Enter your age: ten\n",
            "Invalid input. Please enter an integer.\n",
            "Enter your age: 10\n"
          ]
        }
      ],
      "source": [
        "while True:\n",
        "    age = input(\"Enter your age: \")\n",
        "    if age.isdigit():\n",
        "        age = int(age)\n",
        "        break\n",
        "    else:\n",
        "        print(\"Invalid input. Please enter an integer.\")"
      ]
    },
    {
      "cell_type": "markdown",
      "id": "18c00dc3",
      "metadata": {
        "id": "18c00dc3"
      },
      "source": [
        "## Module: PyInputPlus\n",
        "\n",
        "`pyinputplus` is a Python module that provides input validation functions to simplify the process of getting user input from the command line. It can handle various types of input validation, such as integers, floating-point numbers, dates and times, email addresses, and more. It also provides more robust error handling than the built-in `input()` function in Python."
      ]
    },
    {
      "cell_type": "code",
      "execution_count": 9,
      "id": "dfe1740b",
      "metadata": {
        "id": "dfe1740b",
        "colab": {
          "base_uri": "https://localhost:8080/"
        },
        "outputId": "176b59ee-92ee-4d6d-ae5c-04ed692e32c3"
      },
      "outputs": [
        {
          "output_type": "stream",
          "name": "stdout",
          "text": [
            "Looking in indexes: https://pypi.org/simple, https://us-python.pkg.dev/colab-wheels/public/simple/\n",
            "Collecting PyInputPlus\n",
            "  Downloading PyInputPlus-0.2.12.tar.gz (20 kB)\n",
            "  Installing build dependencies ... \u001b[?25l\u001b[?25hdone\n",
            "  Getting requirements to build wheel ... \u001b[?25l\u001b[?25hdone\n",
            "  Preparing metadata (pyproject.toml) ... \u001b[?25l\u001b[?25hdone\n",
            "Collecting pysimplevalidate>=0.2.7\n",
            "  Downloading PySimpleValidate-0.2.12.tar.gz (22 kB)\n",
            "  Installing build dependencies ... \u001b[?25l\u001b[?25hdone\n",
            "  Getting requirements to build wheel ... \u001b[?25l\u001b[?25hdone\n",
            "  Preparing metadata (pyproject.toml) ... \u001b[?25l\u001b[?25hdone\n",
            "Collecting stdiomask>=0.0.3\n",
            "  Downloading stdiomask-0.0.6.tar.gz (3.6 kB)\n",
            "  Installing build dependencies ... \u001b[?25l\u001b[?25hdone\n",
            "  Getting requirements to build wheel ... \u001b[?25l\u001b[?25hdone\n",
            "  Preparing metadata (pyproject.toml) ... \u001b[?25l\u001b[?25hdone\n",
            "Building wheels for collected packages: PyInputPlus, pysimplevalidate, stdiomask\n",
            "  Building wheel for PyInputPlus (pyproject.toml) ... \u001b[?25l\u001b[?25hdone\n",
            "  Created wheel for PyInputPlus: filename=PyInputPlus-0.2.12-py3-none-any.whl size=11314 sha256=4aea49e5bc59787c07af19d35a80334b63d56105e9d748e707072e2c316bdaf9\n",
            "  Stored in directory: /root/.cache/pip/wheels/b4/6e/2f/8a852732646cabec36c3fe8fc060ec5bea1c1be711432c47f7\n",
            "  Building wheel for pysimplevalidate (pyproject.toml) ... \u001b[?25l\u001b[?25hdone\n",
            "  Created wheel for pysimplevalidate: filename=PySimpleValidate-0.2.12-py3-none-any.whl size=16187 sha256=3c1233ba88e04735dd64a345cc5845f65cc7f92c97ff1b6c9624cd100e147e18\n",
            "  Stored in directory: /root/.cache/pip/wheels/b1/44/4a/043a4f4c4512c7cdfb0c2b8408b18b0de5fd45cac57f5dfa02\n",
            "  Building wheel for stdiomask (pyproject.toml) ... \u001b[?25l\u001b[?25hdone\n",
            "  Created wheel for stdiomask: filename=stdiomask-0.0.6-py3-none-any.whl size=3318 sha256=a000ca4f1b3c0d75e84120e2bcfca747875cc49a877a842dcad3a587f8d9cdbc\n",
            "  Stored in directory: /root/.cache/pip/wheels/1d/aa/47/f41f117d22c5de82e95d9342f44da578c80610739a2d5ebec4\n",
            "Successfully built PyInputPlus pysimplevalidate stdiomask\n",
            "Installing collected packages: stdiomask, pysimplevalidate, PyInputPlus\n",
            "Successfully installed PyInputPlus-0.2.12 pysimplevalidate-0.2.12 stdiomask-0.0.6\n"
          ]
        }
      ],
      "source": [
        "# install the module\n",
        "!pip install PyInputPlus\n"
      ]
    },
    {
      "cell_type": "code",
      "execution_count": 10,
      "id": "9a52f49e",
      "metadata": {
        "id": "9a52f49e"
      },
      "outputs": [],
      "source": [
        "import pyinputplus as pyip\n",
        "\n"
      ]
    },
    {
      "cell_type": "code",
      "execution_count": null,
      "id": "28ee4733",
      "metadata": {
        "id": "28ee4733"
      },
      "outputs": [],
      "source": []
    }
  ],
  "metadata": {
    "kernelspec": {
      "display_name": "Python 3 (ipykernel)",
      "language": "python",
      "name": "python3"
    },
    "language_info": {
      "codemirror_mode": {
        "name": "ipython",
        "version": 3
      },
      "file_extension": ".py",
      "mimetype": "text/x-python",
      "name": "python",
      "nbconvert_exporter": "python",
      "pygments_lexer": "ipython3",
      "version": "3.9.7"
    },
    "colab": {
      "provenance": [],
      "include_colab_link": true
    }
  },
  "nbformat": 4,
  "nbformat_minor": 5
}